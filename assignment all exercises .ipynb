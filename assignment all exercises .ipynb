{
 "cells": [
  {
   "cell_type": "code",
   "execution_count": null,
   "id": "dd6147d4-37ac-4bd3-b26b-f44eff0dfbf5",
   "metadata": {},
   "outputs": [],
   "source": [
    "# 1. Basics"
   ]
  },
  {
   "cell_type": "code",
   "execution_count": null,
   "id": "30f3bc9a-4819-4fa6-a5a0-b69143be8627",
   "metadata": {},
   "outputs": [],
   "source": [
    "### Exercises: Level 1"
   ]
  },
  {
   "cell_type": "code",
   "execution_count": null,
   "id": "359c33e3-d4c1-4eb4-b3a9-e7ecf0c2edbc",
   "metadata": {},
   "outputs": [],
   "source": [
    " # 1. Inside 30DaysOfPython create a folder called day_2."
   ]
  },
  {
   "cell_type": "code",
   "execution_count": null,
   "id": "b8369521-66fb-47d9-b647-dad5fd718709",
   "metadata": {},
   "outputs": [],
   "source": [
    "# Write a python comment saying 'Day 2: 30 Days of python programming'"
   ]
  },
  {
   "cell_type": "code",
   "execution_count": null,
   "id": "79918112-97d6-4414-9a4a-8476e3adeece",
   "metadata": {},
   "outputs": [],
   "source": [
    "day2 =  \"30 day of python programming\""
   ]
  },
  {
   "cell_type": "code",
   "execution_count": null,
   "id": "26f8ae67-a49f-459c-8660-95395a3c75c1",
   "metadata": {},
   "outputs": [],
   "source": [
    "day2"
   ]
  },
  {
   "cell_type": "code",
   "execution_count": null,
   "id": "7d792e2b-ec87-4686-886b-a2ccc2b69587",
   "metadata": {},
   "outputs": [],
   "source": [
    "a = \"sagar\"\n",
    "b = \"bawankukle\"\n",
    "c = \"sagar tarachand bawankule\"\n",
    "d = \"nagpur\"\n",
    "e = 'age25'\n",
    "f = \"sagarbawankulevidya@gmail.com\"\n",
    "g = \"unmarrid\"\n",
    "h = 'true'\n",
    "i = 'civil eng.'\n",
    "j = 'MBA in fiance and HR'"
   ]
  },
  {
   "cell_type": "code",
   "execution_count": null,
   "id": "e9ad0770-bb80-48b9-b38f-c54f5e48927d",
   "metadata": {},
   "outputs": [],
   "source": [
    "print(a,b,c,d,e,f,g,h,i,j)"
   ]
  },
  {
   "cell_type": "code",
   "execution_count": null,
   "id": "ab3aa86a-3fb7-447a-a5de-a9d617e99551",
   "metadata": {},
   "outputs": [],
   "source": [
    "\n",
    "### Exercises: Level 2"
   ]
  },
  {
   "cell_type": "code",
   "execution_count": null,
   "id": "182c3e2d-38f5-4b2a-af57-4fc3f2afee8a",
   "metadata": {},
   "outputs": [],
   "source": [
    " types()"
   ]
  },
  {
   "cell_type": "code",
   "execution_count": null,
   "id": "b4b4f940-effc-4ff4-b81f-4e95c082335d",
   "metadata": {},
   "outputs": [],
   "source": [
    "input( 'number is 4:')\n"
   ]
  },
  {
   "cell_type": "code",
   "execution_count": 2,
   "id": "625292ed-7a98-4760-85ea-e967d273952b",
   "metadata": {},
   "outputs": [],
   "source": [
    "num = 56"
   ]
  },
  {
   "cell_type": "code",
   "execution_count": 3,
   "id": "1b28a6ed-86e3-4615-9d8a-b49c5257b36a",
   "metadata": {},
   "outputs": [
    {
     "data": {
      "text/plain": [
       "int"
      ]
     },
     "execution_count": 3,
     "metadata": {},
     "output_type": "execute_result"
    }
   ],
   "source": [
    "type(num)"
   ]
  },
  {
   "cell_type": "code",
   "execution_count": 4,
   "id": "d301a678-80e2-42ea-b09a-17328734e4ac",
   "metadata": {},
   "outputs": [],
   "source": [
    "x = {}"
   ]
  },
  {
   "cell_type": "code",
   "execution_count": 5,
   "id": "1d665a51-133d-490e-9af3-6a178f9090cf",
   "metadata": {},
   "outputs": [
    {
     "data": {
      "text/plain": [
       "dict"
      ]
     },
     "execution_count": 5,
     "metadata": {},
     "output_type": "execute_result"
    }
   ],
   "source": [
    "type(x)"
   ]
  },
  {
   "cell_type": "code",
   "execution_count": 8,
   "id": "87b777be-dd9b-41a8-b6a6-7f69d8d4c516",
   "metadata": {},
   "outputs": [
    {
     "name": "stdout",
     "output_type": "stream",
     "text": [
      "<class 'tuple'>\n"
     ]
    }
   ],
   "source": [
    "b = ()\n",
    "print(type(b))"
   ]
  },
  {
   "cell_type": "code",
   "execution_count": 10,
   "id": "31971011-27af-403f-9562-de67bca99929",
   "metadata": {},
   "outputs": [],
   "source": [
    "x = \"sagar bawankule\""
   ]
  },
  {
   "cell_type": "code",
   "execution_count": 15,
   "id": "b7728333-258f-4ab6-87df-a0ae4e9ca76d",
   "metadata": {},
   "outputs": [
    {
     "name": "stdout",
     "output_type": "stream",
     "text": [
      "<built-in function len> <class 'str'>\n"
     ]
    }
   ],
   "source": [
    "print(len, type(x))"
   ]
  },
  {
   "cell_type": "code",
   "execution_count": 24,
   "id": "4833eeba-47ad-4774-9664-5d3c68960a54",
   "metadata": {},
   "outputs": [],
   "source": [
    "x = (5)"
   ]
  },
  {
   "cell_type": "code",
   "execution_count": 25,
   "id": "3873602c-6f5e-48e8-9828-54d95073455d",
   "metadata": {},
   "outputs": [],
   "source": [
    "num_one = 5"
   ]
  },
  {
   "cell_type": "code",
   "execution_count": 27,
   "id": "14f44f30-92c6-4eff-8b0e-c890ea8e9f32",
   "metadata": {},
   "outputs": [],
   "source": [
    "num_two = 4"
   ]
  },
  {
   "cell_type": "code",
   "execution_count": 28,
   "id": "5c8aca6e-d53e-4d1a-a33a-b9b5fe292888",
   "metadata": {},
   "outputs": [
    {
     "name": "stdout",
     "output_type": "stream",
     "text": [
      "5\n"
     ]
    }
   ],
   "source": [
    "print(num_one)"
   ]
  },
  {
   "cell_type": "code",
   "execution_count": 37,
   "id": "181ae504-6c5b-4500-8bbf-ba063b40a0f9",
   "metadata": {},
   "outputs": [
    {
     "data": {
      "text/plain": [
       "11"
      ]
     },
     "execution_count": 37,
     "metadata": {},
     "output_type": "execute_result"
    }
   ],
   "source": [
    "5 +6"
   ]
  },
  {
   "cell_type": "code",
   "execution_count": 38,
   "id": "ae76a732-7ca5-4562-ae92-0f85b3c19101",
   "metadata": {},
   "outputs": [
    {
     "name": "stdout",
     "output_type": "stream",
     "text": [
      "101119\n"
     ]
    }
   ],
   "source": [
    "x = 45564\n",
    "b = 55555\n",
    "print(x + b)"
   ]
  },
  {
   "cell_type": "code",
   "execution_count": 39,
   "id": "d885947c-21bf-451b-a831-b404cc364608",
   "metadata": {},
   "outputs": [
    {
     "name": "stdout",
     "output_type": "stream",
     "text": [
      "-139\n"
     ]
    }
   ],
   "source": [
    "c = 45548\n",
    "d = 45687\n",
    "print(c -d)"
   ]
  },
  {
   "cell_type": "code",
   "execution_count": 40,
   "id": "c7419a7f-1398-48bd-9772-8f8c7fd11adb",
   "metadata": {},
   "outputs": [],
   "source": [
    "k = 4554**55"
   ]
  },
  {
   "cell_type": "code",
   "execution_count": 41,
   "id": "1d7d8a3f-f786-478e-8f8c-6e9711f6871f",
   "metadata": {},
   "outputs": [
    {
     "name": "stdout",
     "output_type": "stream",
     "text": [
      "1627857727025429446662013657348840593910529445105366397949553292771914690479216016254382656982465416749388155807579126447109773727420306575648571670285606783528149653739119765022710152040152027075969024\n"
     ]
    }
   ],
   "source": [
    "print(k)"
   ]
  },
  {
   "cell_type": "code",
   "execution_count": 42,
   "id": "319f9ea7-4bbe-457f-ae4d-7f6554c46dee",
   "metadata": {},
   "outputs": [
    {
     "data": {
      "text/plain": [
       "333"
      ]
     },
     "execution_count": 42,
     "metadata": {},
     "output_type": "execute_result"
    }
   ],
   "source": [
    "878-545"
   ]
  },
  {
   "cell_type": "code",
   "execution_count": 43,
   "id": "a6d0901a-2e9c-4187-a97b-2cf7e4a58928",
   "metadata": {},
   "outputs": [
    {
     "data": {
      "text/plain": [
       "2814.327272727273"
      ]
     },
     "execution_count": 43,
     "metadata": {},
     "output_type": "execute_result"
    }
   ],
   "source": [
    "154788/55"
   ]
  },
  {
   "cell_type": "code",
   "execution_count": 44,
   "id": "e39ff10d-ff08-4b74-ba1e-a707fe16f219",
   "metadata": {},
   "outputs": [
    {
     "data": {
      "text/plain": [
       "44444444444438888889"
      ]
     },
     "execution_count": 44,
     "metadata": {},
     "output_type": "execute_result"
    }
   ],
   "source": [
    "44444444444444444444-5555555"
   ]
  },
  {
   "cell_type": "markdown",
   "id": "2aec72d6-3a5d-4739-8f41-de07376ddd00",
   "metadata": {},
   "source": [
    "5555//556"
   ]
  },
  {
   "cell_type": "code",
   "execution_count": 46,
   "id": "86fca8c2-23e8-4de9-8fda-b4c8c8bab756",
   "metadata": {},
   "outputs": [
    {
     "data": {
      "text/plain": [
       "222"
      ]
     },
     "execution_count": 46,
     "metadata": {},
     "output_type": "execute_result"
    }
   ],
   "source": [
    "444//2"
   ]
  },
  {
   "cell_type": "code",
   "execution_count": 47,
   "id": "fec6c8b0-2458-42f1-8681-23127c3f661a",
   "metadata": {},
   "outputs": [
    {
     "data": {
      "text/plain": [
       "808264.6181818182"
      ]
     },
     "execution_count": 47,
     "metadata": {},
     "output_type": "execute_result"
    }
   ],
   "source": [
    "44454554/55"
   ]
  },
  {
   "cell_type": "code",
   "execution_count": 49,
   "id": "ac4bec11-dd5e-48a9-87cf-e2f96912ae02",
   "metadata": {},
   "outputs": [],
   "source": [
    "# The radius of a circle is 30 meters."
   ]
  },
  {
   "cell_type": "code",
   "execution_count": 51,
   "id": "4f5eb2ce-1cbd-4836-ab2a-5a76082aa243",
   "metadata": {},
   "outputs": [
    {
     "name": "stdin",
     "output_type": "stream",
     "text": [
      "Enter the radius of a circle: 30\n"
     ]
    },
    {
     "name": "stdout",
     "output_type": "stream",
     "text": [
      "Area of a circle = 2826.00\n"
     ]
    }
   ],
   "source": [
    "PI = 3.14\n",
    "r = float(input(\"Enter the radius of a circle:\"))\n",
    "area = PI * r * r\n",
    "print(\"Area of a circle = %.2f\" %area)"
   ]
  },
  {
   "cell_type": "code",
   "execution_count": 60,
   "id": "d99fc245-d49b-4133-9a81-0ef49f90b8e8",
   "metadata": {},
   "outputs": [
    {
     "name": "stdin",
     "output_type": "stream",
     "text": [
      "enter the radius of a circle: 55\n"
     ]
    },
    {
     "name": "stdout",
     "output_type": "stream",
     "text": [
      "9498.500000000002\n"
     ]
    }
   ],
   "source": [
    "pI = 3.14\n",
    "r = float(input(\"enter the radius of a circle:\"))\n",
    "area = pI * r * r\n",
    "print(area)"
   ]
  },
  {
   "cell_type": "code",
   "execution_count": 1,
   "id": "27fc6d72-a74d-41bb-8439-24c3cc29eab4",
   "metadata": {},
   "outputs": [],
   "source": [
    "x = 'sagar bawankule'"
   ]
  },
  {
   "cell_type": "code",
   "execution_count": 2,
   "id": "7a2de3be-bd8c-4576-8de5-6614418bf966",
   "metadata": {},
   "outputs": [
    {
     "data": {
      "text/plain": [
       "'sagar bawankule'"
      ]
     },
     "execution_count": 2,
     "metadata": {},
     "output_type": "execute_result"
    }
   ],
   "source": [
    "x"
   ]
  },
  {
   "cell_type": "code",
   "execution_count": 3,
   "id": "cff9dbfd-179a-4947-a55e-68bbabed69c4",
   "metadata": {},
   "outputs": [
    {
     "name": "stdout",
     "output_type": "stream",
     "text": [
      "314.1592653589793\n"
     ]
    }
   ],
   "source": [
    "import math\n",
    "\n",
    "pi = math.pi\n",
    "radius = 10  # You can change this value\n",
    "\n",
    "_area_of_circle_ = pi * radius**2\n",
    "\n",
    "print(_area_of_circle_)"
   ]
  },
  {
   "cell_type": "code",
   "execution_count": 26,
   "id": "29e5c3b7-43da-44d7-a00c-a551dadbd81e",
   "metadata": {},
   "outputs": [
    {
     "name": "stdin",
     "output_type": "stream",
     "text": [
      " 5\n"
     ]
    },
    {
     "name": "stdout",
     "output_type": "stream",
     "text": [
      "78.5\n"
     ]
    }
   ],
   "source": [
    "pi = 3.14 \n",
    "radius = int( input())\n",
    "\n",
    "_area_of_circle_ = pi * radius **2\n",
    "\n",
    "print(_area_of_circle_)"
   ]
  },
  {
   "cell_type": "code",
   "execution_count": 27,
   "id": "6934de4a-4067-4f47-a867-d1cacf9ec65e",
   "metadata": {},
   "outputs": [
    {
     "name": "stdout",
     "output_type": "stream",
     "text": [
      "62.83185307179586\n"
     ]
    }
   ],
   "source": [
    "import math\n",
    "\n",
    "pi = math.pi\n",
    "radius = 10  # You can change this value\n",
    "\n",
    "_circum_of_circle_ = 2 * pi * radius\n",
    "\n",
    "print(_circum_of_circle_)"
   ]
  },
  {
   "cell_type": "code",
   "execution_count": 28,
   "id": "70ccf8c8-ed58-4e56-807e-2254f6290c55",
   "metadata": {},
   "outputs": [
    {
     "name": "stdout",
     "output_type": "stream",
     "text": [
      "62.83185307179586\n"
     ]
    }
   ],
   "source": [
    "pi = 3.14\n",
    "radius = 25\n",
    "\n",
    "_circum_of_circl_ = 2 *pi * radius\n",
    "\n",
    "print(_circum_of_circle_)"
   ]
  },
  {
   "cell_type": "code",
   "execution_count": 8,
   "id": "013c3c92-8c63-458c-a607-4f1bdc0ceb0e",
   "metadata": {},
   "outputs": [
    {
     "name": "stdin",
     "output_type": "stream",
     "text": [
      "sagar :   bawankule\n"
     ]
    }
   ],
   "source": [
    "x = input('sagar : '' ')"
   ]
  },
  {
   "cell_type": "code",
   "execution_count": 9,
   "id": "943e4677-4ac6-4528-a748-1b74e968fc6e",
   "metadata": {},
   "outputs": [
    {
     "name": "stdin",
     "output_type": "stream",
     "text": [
      "surname: bawankule\n"
     ]
    }
   ],
   "source": [
    "b = input('surname:')"
   ]
  },
  {
   "cell_type": "code",
   "execution_count": 10,
   "id": "6b8fe3eb-e31c-4b78-8cda-e3bec6374453",
   "metadata": {},
   "outputs": [
    {
     "name": "stdin",
     "output_type": "stream",
     "text": [
      "country name: in\n"
     ]
    }
   ],
   "source": [
    "c = input('country name:')"
   ]
  },
  {
   "cell_type": "code",
   "execution_count": 12,
   "id": "bcfcea0d-bdc4-41db-83d7-d7032bcddc14",
   "metadata": {},
   "outputs": [],
   "source": [
    " # Run help('keywords') in Python shell or in your file to check for the Python reserved words or keywords"
   ]
  },
  {
   "cell_type": "code",
   "execution_count": 13,
   "id": "a7b2bc45-e7cc-45f3-9435-6f28e6f0fcc5",
   "metadata": {},
   "outputs": [],
   "source": [
    " # 2. Basic-2."
   ]
  },
  {
   "cell_type": "code",
   "execution_count": 15,
   "id": "afea988a-b091-466c-ae99-c325502578a7",
   "metadata": {},
   "outputs": [
    {
     "name": "stdin",
     "output_type": "stream",
     "text": [
      "sagar age: 25\n"
     ]
    }
   ],
   "source": [
    "x = int(input('sagar age:'))"
   ]
  },
  {
   "cell_type": "code",
   "execution_count": 18,
   "id": "ab89a3f0-1842-421f-8140-b66242c4e312",
   "metadata": {},
   "outputs": [
    {
     "name": "stdin",
     "output_type": "stream",
     "text": [
      "sagar height: 5.6\n"
     ]
    }
   ],
   "source": [
    "x = float(input('sagar height:'))"
   ]
  },
  {
   "cell_type": "code",
   "execution_count": 27,
   "id": "cda4d64c-95c5-4948-8e19-66b03ddc386f",
   "metadata": {},
   "outputs": [],
   "source": [
    "# Write a script that prompts the user to enter base and height of the triangle and calculate an area of this triangle (area = 0.5 x b x h).\n"
   ]
  },
  {
   "cell_type": "code",
   "execution_count": 50,
   "id": "8af99248-8015-4143-a66f-b50c795ec8b1",
   "metadata": {},
   "outputs": [
    {
     "name": "stdin",
     "output_type": "stream",
     "text": [
      "height of triangle: 5\n",
      "base of triangle: 8\n"
     ]
    },
    {
     "name": "stdout",
     "output_type": "stream",
     "text": [
      "20.0\n"
     ]
    }
   ],
   "source": [
    "h = int(input('height of triangle:'))\n",
    "b = int(input('base of triangle:'))\n",
    "c = (0.5 * h * b)\n",
    "print(c)"
   ]
  },
  {
   "cell_type": "code",
   "execution_count": 54,
   "id": "7fdf5608-6026-4c6c-b78a-8a110c761bc8",
   "metadata": {},
   "outputs": [
    {
     "name": "stdin",
     "output_type": "stream",
     "text": [
      "height: 5\n",
      "base: 8\n"
     ]
    },
    {
     "name": "stdout",
     "output_type": "stream",
     "text": [
      "area of the triangle: 20.0\n"
     ]
    }
   ],
   "source": [
    "h = int(input('height:'))\n",
    "b = int(input('base:'))\n",
    "c = (0.5 * h *b)\n",
    "print('area of the triangle:', c)\n",
    "    "
   ]
  },
  {
   "cell_type": "code",
   "execution_count": 1,
   "id": "9528c457-a6df-4320-a7e7-c01ff0ee64a8",
   "metadata": {},
   "outputs": [],
   "source": [
    "# rite a script that prompts the user to enter side a, side b, and side c of the triangle. Calculate the perimeter of the triangle (perimeter = a + b + c).\n"
   ]
  },
  {
   "cell_type": "code",
   "execution_count": 12,
   "id": "d9f2821a-0f82-4bfe-9571-af6b87886a7e",
   "metadata": {},
   "outputs": [
    {
     "name": "stdin",
     "output_type": "stream",
     "text": [
      " 5\n",
      " 4\n",
      " 3\n"
     ]
    },
    {
     "name": "stdout",
     "output_type": "stream",
     "text": [
      "perimeter angel 12\n"
     ]
    }
   ],
   "source": [
    "side_a = int(input())\n",
    "side_b = int(input())\n",
    "side_c = int(input())\n",
    "perimeter = (side_a + side_b + side_c)\n",
    "print('perimeter angel', perimeter )"
   ]
  },
  {
   "cell_type": "code",
   "execution_count": null,
   "id": "b9e91170-6665-4111-8647-533dee63fe3a",
   "metadata": {},
   "outputs": [],
   "source": [
    "Get length and width of a rectangle using prompt. Calculate its area (area = length x width) and perimeter (perimeter = 2 x (length + width))"
   ]
  },
  {
   "cell_type": "code",
   "execution_count": 6,
   "id": "341dd3e8-87ab-43b9-8044-686787ada330",
   "metadata": {},
   "outputs": [
    {
     "name": "stdin",
     "output_type": "stream",
     "text": [
      " 8\n",
      " 5\n"
     ]
    }
   ],
   "source": [
    "length = int(input())\n",
    "witdh = int(input())\n",
    "area = (length * width)\n",
    "print = area "
   ]
  },
  {
   "cell_type": "code",
   "execution_count": 5,
   "id": "804b2921-e20f-4788-b781-0b4e97e96772",
   "metadata": {},
   "outputs": [
    {
     "name": "stdin",
     "output_type": "stream",
     "text": [
      "Enter the length of the rectangle:  8\n",
      "Enter the width of the rectangle:  5\n"
     ]
    },
    {
     "name": "stdout",
     "output_type": "stream",
     "text": [
      "40.0\n"
     ]
    }
   ],
   "source": [
    " length = float(input(\"Enter the length of the rectangle: \"))\n",
    " width = float(input(\"Enter the width of the rectangle: \"))\n",
    "\n",
    "  # Calculate area\n",
    " area = (length * width)\n",
    " print(area)\n"
   ]
  },
  {
   "cell_type": "code",
   "execution_count": 22,
   "id": "a10212af-197e-49f2-a294-92ea2aee6634",
   "metadata": {},
   "outputs": [
    {
     "name": "stdin",
     "output_type": "stream",
     "text": [
      "Enter the radius of the circle:  8\n"
     ]
    },
    {
     "name": "stdout",
     "output_type": "stream",
     "text": [
      "25.12\n"
     ]
    }
   ],
   "source": [
    "\n",
    "    PI = 3.14\n",
    "    radius = float(input(\"Enter the radius of the circle: \"))\n",
    "    area = PI * radius \n",
    "    print(area)\n"
   ]
  },
  {
   "cell_type": "code",
   "execution_count": 30,
   "id": "be0108c4-5aff-4267-bfe8-710e2cbdf994",
   "metadata": {},
   "outputs": [
    {
     "name": "stdout",
     "output_type": "stream",
     "text": [
      "5\n"
     ]
    }
   ],
   "source": [
    "abc = len('sagar')\n",
    "print(abc)"
   ]
  },
  {
   "cell_type": "code",
   "execution_count": 31,
   "id": "f1397a69-95b6-42d6-a4f1-d166daa36b8a",
   "metadata": {},
   "outputs": [
    {
     "name": "stdout",
     "output_type": "stream",
     "text": [
      "'jargon' is found in the sentence.\n"
     ]
    }
   ],
   "source": [
    "sentence = \"I hope this course is not full of jargon.\"\n",
    "\n",
    "if \"jargon\" in sentence:\n",
    "  print(\"'jargon' is found in the sentence.\")\n",
    "else:\n",
    "  print(\"'jargon' is not found in the sentence.\")"
   ]
  },
  {
   "cell_type": "code",
   "execution_count": 32,
   "id": "c213cda7-de35-4393-8c80-c1ccffc3aa65",
   "metadata": {},
   "outputs": [
    {
     "name": "stdout",
     "output_type": "stream",
     "text": [
      "Length of 'python': 6.0\n"
     ]
    }
   ],
   "source": [
    "text = \"python\"\n",
    "\n",
    "# Find the length\n",
    "text_length = len(text)\n",
    "\n",
    "# Convert to float and then back to string\n",
    "string_length = str(float(text_length))\n",
    "\n",
    "print(\"Length of 'python':\", string_length)"
   ]
  },
  {
   "cell_type": "code",
   "execution_count": 33,
   "id": "b64ee2f5-1f4b-46e6-8663-0246f9f6893d",
   "metadata": {},
   "outputs": [
    {
     "name": "stdin",
     "output_type": "stream",
     "text": [
      "Enter a number:  5\n"
     ]
    },
    {
     "name": "stdout",
     "output_type": "stream",
     "text": [
      "5 is odd.\n"
     ]
    }
   ],
   "source": [
    "number = int(input(\"Enter a number: \"))\n",
    "\n",
    "if number % 2 == 0:\n",
    "  print(number, \"is even.\")\n",
    "else:\n",
    "  print(number, \"is odd.\")"
   ]
  },
  {
   "cell_type": "code",
   "execution_count": 34,
   "id": "dbd2d5e6-a282-4fb8-8cb9-58ffc12f5aee",
   "metadata": {},
   "outputs": [
    {
     "name": "stdin",
     "output_type": "stream",
     "text": [
      " 8\n"
     ]
    },
    {
     "name": "stdout",
     "output_type": "stream",
     "text": [
      "8 is even.\n"
     ]
    }
   ],
   "source": [
    "number = int(input())\n",
    "\n",
    "if number% 2 ==0:\n",
    "   print(number, \"is even.\")\n",
    "\n",
    "else:\n",
    "   print(number, \"is odd.\")"
   ]
  },
  {
   "cell_type": "code",
   "execution_count": 35,
   "id": "74ba969b-c290-42d3-b5b6-1064e0e3c4bd",
   "metadata": {},
   "outputs": [
    {
     "name": "stdout",
     "output_type": "stream",
     "text": [
      "Floor division of 7 by 3 is equal to the int converted value of 2.7 (incorrect)\n"
     ]
    }
   ],
   "source": [
    "floor_division = 7 // 3\n",
    "converted_int = int(2.7)\n",
    "\n",
    "if floor_division == converted_int:\n",
    "  print(\"Floor division of 7 by 3 is equal to the int converted value of 2.7 (incorrect)\")\n",
    "else:\n",
    "  print(\"They are not equal (correct!)\")\n",
    "    "
   ]
  },
  {
   "cell_type": "code",
   "execution_count": 36,
   "id": "fe89d098-7c28-4a1f-9d53-c71ff5dc09cb",
   "metadata": {},
   "outputs": [
    {
     "name": "stdout",
     "output_type": "stream",
     "text": [
      "Type of '10' is NOT equal to type of 10 (Correct!)\n"
     ]
    }
   ],
   "source": [
    "num_str = \"10\"\n",
    "num_int = 10\n",
    "\n",
    "if type(num_str) == type(num_int):\n",
    "  print(\"Type of '10' is equal to type of 10 (Not quite!)\")\n",
    "else:\n",
    "  print(\"Type of '10' is NOT equal to type of 10 (Correct!)\")\n",
    "\n",
    "\n",
    "\n",
    "    "
   ]
  },
  {
   "cell_type": "code",
   "execution_count": 37,
   "id": "428140c6-1a52-473f-b1ff-7fc67682202a",
   "metadata": {},
   "outputs": [
    {
     "name": "stdout",
     "output_type": "stream",
     "text": [
      "Conversion to integer fails as '9.8' is not a whole number.\n"
     ]
    }
   ],
   "source": [
    "try:\n",
    "  converted_int = int(\"9.8\")\n",
    "  # This line will not be executed because the conversion fails\n",
    "  if converted_int == 10:\n",
    "    print(\"int('9.8') is equal to 10 (incorrect)\")\n",
    "except ValueError:\n",
    "  print(\"Conversion to integer fails as '9.8' is not a whole number.\")"
   ]
  },
  {
   "cell_type": "code",
   "execution_count": 38,
   "id": "fce06729-3c02-4d49-b5d1-cc88bd4239a4",
   "metadata": {},
   "outputs": [
    {
     "ename": "SyntaxError",
     "evalue": "invalid syntax (890504502.py, line 3)",
     "output_type": "error",
     "traceback": [
      "\u001b[1;36m  Cell \u001b[1;32mIn[38], line 3\u001b[1;36m\u001b[0m\n\u001b[1;33m    ```py\u001b[0m\n\u001b[1;37m    ^\u001b[0m\n\u001b[1;31mSyntaxError\u001b[0m\u001b[1;31m:\u001b[0m invalid syntax\n"
     ]
    }
   ],
   "source": [
    "Writ a script that prompts the user to enter hours and rate per hour. Calculate pay of the person?\n",
    "\n",
    "```py\n",
    "Enter hours: 40\n",
    "Enter rate per hour: 28\n",
    "Your weekly earning is 1120\n"
   ]
  },
  {
   "cell_type": "code",
   "execution_count": 41,
   "id": "bdae8a49-3839-4389-9b0d-55aa16d4df75",
   "metadata": {},
   "outputs": [
    {
     "name": "stdin",
     "output_type": "stream",
     "text": [
      " 5\n",
      " 8\n"
     ]
    },
    {
     "name": "stdout",
     "output_type": "stream",
     "text": [
      "40\n"
     ]
    }
   ],
   "source": [
    "hours = int(input())\n",
    "rate_per_hour = int(input())\n",
    "b = (hours * rate_per_hour)\n",
    "print(b)"
   ]
  },
  {
   "cell_type": "code",
   "execution_count": 42,
   "id": "047186dc-c043-45be-9ba0-2b733978d31f",
   "metadata": {},
   "outputs": [
    {
     "ename": "SyntaxError",
     "evalue": "invalid syntax (3867915896.py, line 1)",
     "output_type": "error",
     "traceback": [
      "\u001b[1;36m  Cell \u001b[1;32mIn[42], line 1\u001b[1;36m\u001b[0m\n\u001b[1;33m    Write a script that prompts the user to enter number of years. Calculate the number of seconds a person can live. Assume a person can live hundred years\u001b[0m\n\u001b[1;37m          ^\u001b[0m\n\u001b[1;31mSyntaxError\u001b[0m\u001b[1;31m:\u001b[0m invalid syntax\n"
     ]
    }
   ],
   "source": [
    "Write a script that prompts the user to enter number of years. Calculate the number of seconds a person can live. Assume a person can live hundred years\n",
    "\n",
    "```py\n",
    "Enter number of years you have lived: 100\n",
    "You have lived for 3153600000 seconds.\n",
    "```\n",
    "              "
   ]
  },
  {
   "cell_type": "code",
   "execution_count": 43,
   "id": "56a5062c-492e-4dcf-a5a6-070122cf30b2",
   "metadata": {},
   "outputs": [
    {
     "name": "stdout",
     "output_type": "stream",
     "text": [
      "1 2 3 4 5 "
     ]
    }
   ],
   "source": [
    "for i in range(1, 6):\n",
    "  # Print the first element (i)\n",
    "  print(i, end=\" \")\n",
    "\n"
   ]
  },
  {
   "cell_type": "code",
   "execution_count": 44,
   "id": "1b5388b7-46fc-4f91-a35e-81841473fd92",
   "metadata": {},
   "outputs": [
    {
     "name": "stdout",
     "output_type": "stream",
     "text": [
      "1\n",
      "2\n",
      "3\n",
      "4\n",
      "5\n",
      "6\n",
      "7\n"
     ]
    }
   ],
   "source": [
    "for i in range(1,8):\n",
    "    print(i)"
   ]
  },
  {
   "cell_type": "code",
   "execution_count": 45,
   "id": "88739a37-9a4e-4adf-8c6d-b1691451fc10",
   "metadata": {},
   "outputs": [],
   "source": [
    "#3. Str#ng Basic"
   ]
  },
  {
   "cell_type": "code",
   "execution_count": 46,
   "id": "6e9201bd-ed86-4579-bc84-27f2675f3999",
   "metadata": {},
   "outputs": [
    {
     "data": {
      "text/plain": [
       "['__add__',\n",
       " '__class__',\n",
       " '__contains__',\n",
       " '__delattr__',\n",
       " '__dir__',\n",
       " '__doc__',\n",
       " '__eq__',\n",
       " '__format__',\n",
       " '__ge__',\n",
       " '__getattribute__',\n",
       " '__getitem__',\n",
       " '__getnewargs__',\n",
       " '__getstate__',\n",
       " '__gt__',\n",
       " '__hash__',\n",
       " '__init__',\n",
       " '__init_subclass__',\n",
       " '__iter__',\n",
       " '__le__',\n",
       " '__len__',\n",
       " '__lt__',\n",
       " '__mod__',\n",
       " '__mul__',\n",
       " '__ne__',\n",
       " '__new__',\n",
       " '__reduce__',\n",
       " '__reduce_ex__',\n",
       " '__repr__',\n",
       " '__rmod__',\n",
       " '__rmul__',\n",
       " '__setattr__',\n",
       " '__sizeof__',\n",
       " '__str__',\n",
       " '__subclasshook__',\n",
       " 'capitalize',\n",
       " 'casefold',\n",
       " 'center',\n",
       " 'count',\n",
       " 'encode',\n",
       " 'endswith',\n",
       " 'expandtabs',\n",
       " 'find',\n",
       " 'format',\n",
       " 'format_map',\n",
       " 'index',\n",
       " 'isalnum',\n",
       " 'isalpha',\n",
       " 'isascii',\n",
       " 'isdecimal',\n",
       " 'isdigit',\n",
       " 'isidentifier',\n",
       " 'islower',\n",
       " 'isnumeric',\n",
       " 'isprintable',\n",
       " 'isspace',\n",
       " 'istitle',\n",
       " 'isupper',\n",
       " 'join',\n",
       " 'ljust',\n",
       " 'lower',\n",
       " 'lstrip',\n",
       " 'maketrans',\n",
       " 'partition',\n",
       " 'removeprefix',\n",
       " 'removesuffix',\n",
       " 'replace',\n",
       " 'rfind',\n",
       " 'rindex',\n",
       " 'rjust',\n",
       " 'rpartition',\n",
       " 'rsplit',\n",
       " 'rstrip',\n",
       " 'split',\n",
       " 'splitlines',\n",
       " 'startswith',\n",
       " 'strip',\n",
       " 'swapcase',\n",
       " 'title',\n",
       " 'translate',\n",
       " 'upper',\n",
       " 'zfill']"
      ]
     },
     "execution_count": 46,
     "metadata": {},
     "output_type": "execute_result"
    }
   ],
   "source": [
    "dir(str)"
   ]
  },
  {
   "cell_type": "code",
   "execution_count": 47,
   "id": "3f7233d0-65d4-43e2-b85f-f342bd2278b9",
   "metadata": {},
   "outputs": [],
   "source": [
    "# 4. String Method"
   ]
  },
  {
   "cell_type": "code",
   "execution_count": 48,
   "id": "7795e98a-39c5-4f4a-afd9-e44874d35b74",
   "metadata": {},
   "outputs": [
    {
     "ename": "SyntaxError",
     "evalue": "invalid syntax (3357290130.py, line 1)",
     "output_type": "error",
     "traceback": [
      "\u001b[1;36m  Cell \u001b[1;32mIn[48], line 1\u001b[1;36m\u001b[0m\n\u001b[1;33m    Concatenate the string 'Thirty', 'Days', 'Of', 'Python' to a single string, 'Thirty Days Of Python'.\u001b[0m\n\u001b[1;37m                ^\u001b[0m\n\u001b[1;31mSyntaxError\u001b[0m\u001b[1;31m:\u001b[0m invalid syntax\n"
     ]
    }
   ],
   "source": [
    "Concatenate the string 'Thirty', 'Days', 'Of', 'Python' to a single string, 'Thirty Days Of Python'.\n"
   ]
  },
  {
   "cell_type": "code",
   "execution_count": 49,
   "id": "a956a516-af82-4eed-8c94-ad0912ea7f3e",
   "metadata": {},
   "outputs": [
    {
     "name": "stdout",
     "output_type": "stream",
     "text": [
      "thirty days of python\n"
     ]
    }
   ],
   "source": [
    "x = 'thirty'\n",
    "b = 'days'\n",
    "c = 'of'\n",
    "d = 'python'\n",
    "print(x,b,c,d)"
   ]
  },
  {
   "cell_type": "code",
   "execution_count": 50,
   "id": "f394e1cb-89fc-4031-b93c-0c69f44d7188",
   "metadata": {},
   "outputs": [
    {
     "ename": "SyntaxError",
     "evalue": "invalid syntax (2963050749.py, line 1)",
     "output_type": "error",
     "traceback": [
      "\u001b[1;36m  Cell \u001b[1;32mIn[50], line 1\u001b[1;36m\u001b[0m\n\u001b[1;33m    Concatenate the string 'Coding', 'For' , 'All' to a single string, 'Coding For All'.\u001b[0m\n\u001b[1;37m                ^\u001b[0m\n\u001b[1;31mSyntaxError\u001b[0m\u001b[1;31m:\u001b[0m invalid syntax\n"
     ]
    }
   ],
   "source": [
    "Concatenate the string 'Coding', 'For' , 'All' to a single string, 'Coding For All'.\n"
   ]
  },
  {
   "cell_type": "code",
   "execution_count": 53,
   "id": "0be36a05-5516-4fdc-8085-64140dc9e2c6",
   "metadata": {},
   "outputs": [
    {
     "name": "stdout",
     "output_type": "stream",
     "text": [
      "('coding', 'for', 'all')\n"
     ]
    }
   ],
   "source": [
    " c = ('coding', 'for', 'all')\n",
    "print(c)"
   ]
  },
  {
   "cell_type": "code",
   "execution_count": 54,
   "id": "5684639a-39f3-42e3-90af-3ab3f2568f61",
   "metadata": {},
   "outputs": [
    {
     "name": "stdout",
     "output_type": "stream",
     "text": [
      "vidyasagar 5545\n"
     ]
    }
   ],
   "source": [
    "x = 'vidyasagar'\n",
    "b =5545\n",
    "print(x, b)"
   ]
  },
  {
   "cell_type": "code",
   "execution_count": 55,
   "id": "70116100-45b0-48c5-87f5-8a619b032612",
   "metadata": {},
   "outputs": [
    {
     "name": "stdout",
     "output_type": "stream",
     "text": [
      "vidyasagar\n"
     ]
    }
   ],
   "source": [
    "x = 'vidyasagar'\n",
    "print(x)"
   ]
  },
  {
   "cell_type": "code",
   "execution_count": 56,
   "id": "76aa195e-ca7d-4e48-9f9b-1e969cd84002",
   "metadata": {},
   "outputs": [
    {
     "name": "stdin",
     "output_type": "stream",
     "text": [
      " vidyasagar\n"
     ]
    }
   ],
   "source": [
    "x =len(input())"
   ]
  },
  {
   "cell_type": "code",
   "execution_count": 58,
   "id": "f6edff0a-a5d1-45b2-bb5f-80b2d108ca07",
   "metadata": {},
   "outputs": [
    {
     "name": "stdout",
     "output_type": "stream",
     "text": [
      "10\n"
     ]
    }
   ],
   "source": [
    "x= len('vidyaSagar')\n",
    "print(x)"
   ]
  },
  {
   "cell_type": "code",
   "execution_count": 62,
   "id": "5d109f41-d764-4985-8c43-c5bc6220e5d2",
   "metadata": {},
   "outputs": [
    {
     "name": "stdin",
     "output_type": "stream",
     "text": [
      "name: sagar\n"
     ]
    }
   ],
   "source": [
    "b = len(input('name:'))"
   ]
  },
  {
   "cell_type": "code",
   "execution_count": 63,
   "id": "b8cf3c89-7ed8-4926-baf8-67fedf531fd7",
   "metadata": {},
   "outputs": [
    {
     "name": "stdout",
     "output_type": "stream",
     "text": [
      "HELLO WORLD\n"
     ]
    }
   ],
   "source": [
    "text = \"hello world\"\n",
    "uppercase_text = text.upper()\n",
    "print(uppercase_text)  # Output: HELLO WORLD\n"
   ]
  },
  {
   "cell_type": "code",
   "execution_count": 64,
   "id": "df45f268-291f-480e-a98c-770b5ae7a644",
   "metadata": {},
   "outputs": [
    {
     "name": "stdout",
     "output_type": "stream",
     "text": [
      "SAGAR BAWANKULE\n"
     ]
    }
   ],
   "source": [
    "ab = \"sagar bawankule\"\n",
    "uppercase_text = ab.upper()\n",
    "print(uppercase_text)"
   ]
  },
  {
   "cell_type": "code",
   "execution_count": 65,
   "id": "6c742aaa-d8c3-47d8-8f38-2bf98bffe715",
   "metadata": {},
   "outputs": [
    {
     "ename": "SyntaxError",
     "evalue": "invalid syntax (1496199408.py, line 1)",
     "output_type": "error",
     "traceback": [
      "\u001b[1;36m  Cell \u001b[1;32mIn[65], line 1\u001b[1;36m\u001b[0m\n\u001b[1;33m    Change all the characters to lowercase letters using _lower()_ method.\u001b[0m\n\u001b[1;37m           ^\u001b[0m\n\u001b[1;31mSyntaxError\u001b[0m\u001b[1;31m:\u001b[0m invalid syntax\n"
     ]
    }
   ],
   "source": [
    " Change all the characters to lowercase letters using _lower()_ method.\n"
   ]
  },
  {
   "cell_type": "code",
   "execution_count": null,
   "id": "f52917a8-315d-4341-9457-ad6b7bd77c01",
   "metadata": {},
   "outputs": [],
   "source": [
    "abc = \"sagar bawankule\"\n"
   ]
  },
  {
   "cell_type": "code",
   "execution_count": 66,
   "id": "aa76ed96-6a7f-4a6c-badb-eb96f10d100e",
   "metadata": {},
   "outputs": [
    {
     "name": "stdout",
     "output_type": "stream",
     "text": [
      "hello world\n"
     ]
    }
   ],
   "source": [
    "text = \"HELLO WORLD\"\n",
    "lowercase_text = text.lower()\n",
    "print(lowercase_text)  # Output: hello world"
   ]
  },
  {
   "cell_type": "code",
   "execution_count": 67,
   "id": "7ef5e6c9-482c-4e38-920a-e501faf50f5e",
   "metadata": {},
   "outputs": [
    {
     "name": "stdout",
     "output_type": "stream",
     "text": [
      "sagar bawankule\n"
     ]
    }
   ],
   "source": [
    "abc = \"sagar bawankule\"\n",
    "lowercase_text = abc.lower()\n",
    "\n",
    "print(lowercase_text)"
   ]
  },
  {
   "cell_type": "code",
   "execution_count": 68,
   "id": "c5edafd1-90dd-4f12-8421-11707da447d9",
   "metadata": {},
   "outputs": [
    {
     "name": "stdout",
     "output_type": "stream",
     "text": [
      "_coding for all_\n"
     ]
    }
   ],
   "source": [
    "text = \"_Coding For All_\"\n",
    "\n",
    "# Capitalize the first letter of the entire string\n",
    "capitalized_text = text.capitalize()\n",
    "print(capitalized_text)  # Output: _Coding For All_\n"
   ]
  },
  {
   "cell_type": "code",
   "execution_count": 71,
   "id": "c1d2fdb0-579a-4235-99b1-a649fc2f7375",
   "metadata": {},
   "outputs": [
    {
     "name": "stdout",
     "output_type": "stream",
     "text": [
      "['_Coding', 'For', 'All_']\n"
     ]
    }
   ],
   "source": [
    "text = \"_Coding For All_\"\n",
    "\n",
    "words = text.split()\n",
    "print(words)"
   ]
  },
  {
   "cell_type": "code",
   "execution_count": 72,
   "id": "693c0e7d-5806-4a48-8e60-106b084ca464",
   "metadata": {},
   "outputs": [
    {
     "name": "stdout",
     "output_type": "stream",
     "text": [
      "The word 'Coding' is found in the text.\n"
     ]
    }
   ],
   "source": [
    "text = \"_Coding For All_\"\n",
    "if \"Coding\" in text:\n",
    "  print(\"The word 'Coding' is found in the text.\")\n",
    "else:\n",
    "  print(\"The word 'Coding' is not found in the text.\")\n",
    "    "
   ]
  },
  {
   "cell_type": "code",
   "execution_count": 75,
   "id": "f91d0937-a41c-4fc3-ba34-6fc612ec93f2",
   "metadata": {},
   "outputs": [
    {
     "name": "stdout",
     "output_type": "stream",
     "text": [
      "sagar is not\n"
     ]
    }
   ],
   "source": [
    "sagar = \"bawankule dd\"\n",
    "if \"bawankule\" in text:\n",
    "    print(\"sagar bawankule\")\n",
    "\n",
    "else:\n",
    "    print(\"sagar is not\")"
   ]
  },
  {
   "cell_type": "code",
   "execution_count": 76,
   "id": "2fd1c54b-e809-4172-a1a5-46bf2f3dcb42",
   "metadata": {},
   "outputs": [
    {
     "name": "stdout",
     "output_type": "stream",
     "text": [
      "Python For All\n"
     ]
    }
   ],
   "source": [
    "text = \"Coding For All\"\n",
    "new_text = text.replace(\"Coding\", \"Python\")\n",
    "print(new_text)  # Output: Python For All"
   ]
  },
  {
   "cell_type": "code",
   "execution_count": 77,
   "id": "4b1eb429-c9e7-4812-9b42-b964eec471e8",
   "metadata": {},
   "outputs": [
    {
     "name": "stdout",
     "output_type": "stream",
     "text": [
      "Python for All\n"
     ]
    }
   ],
   "source": [
    "text = \"Python for Everyone\"\n",
    "new_text = text.replace(\"Everyone\", \"All\")\n",
    "print(new_text)  # Output: Python for All"
   ]
  },
  {
   "cell_type": "code",
   "execution_count": 78,
   "id": "9a6cb3ec-096f-4968-b5b2-151a5f3a3c7a",
   "metadata": {},
   "outputs": [
    {
     "ename": "SyntaxError",
     "evalue": "invalid syntax (953404954.py, line 1)",
     "output_type": "error",
     "traceback": [
      "\u001b[1;36m  Cell \u001b[1;32mIn[78], line 1\u001b[1;36m\u001b[0m\n\u001b[1;33m    Split the string 'Coding For All' using space as the separator (split()) .\u001b[0m\n\u001b[1;37m          ^\u001b[0m\n\u001b[1;31mSyntaxError\u001b[0m\u001b[1;31m:\u001b[0m invalid syntax\n"
     ]
    }
   ],
   "source": [
    "Split the string 'Coding For All' using space as the separator (split()) ."
   ]
  },
  {
   "cell_type": "code",
   "execution_count": 79,
   "id": "497d2855-e792-41b3-a8cc-c41484edce68",
   "metadata": {},
   "outputs": [
    {
     "name": "stdout",
     "output_type": "stream",
     "text": [
      "['Coding', 'For', 'All']\n"
     ]
    }
   ],
   "source": [
    "text = \"Coding For All\"\n",
    "words = text.split()  # Split the string using space as the separator\n",
    "print(words)  # Output: ['Coding', 'For', 'All']"
   ]
  },
  {
   "cell_type": "code",
   "execution_count": 80,
   "id": "de2158ca-46a0-4f48-84e6-d49c552ae4d0",
   "metadata": {},
   "outputs": [
    {
     "name": "stdout",
     "output_type": "stream",
     "text": [
      "['Facebook', ' Google', ' Microsoft', ' Apple', ' IBM', ' Oracle', ' Amazon']\n"
     ]
    }
   ],
   "source": [
    "text = \"Facebook, Google, Microsoft, Apple, IBM, Oracle, Amazon\"\n",
    "companies = text.split(\",\")  # Split the string at the commas\n",
    "\n",
    "# Print the list of companies\n",
    "print(companies)"
   ]
  },
  {
   "cell_type": "code",
   "execution_count": 82,
   "id": "e853e8cf-5f2d-46df-b585-cd97b245f803",
   "metadata": {},
   "outputs": [
    {
     "name": "stdout",
     "output_type": "stream",
     "text": [
      "_\n"
     ]
    }
   ],
   "source": [
    "text = \"_Coding For All_\"\n",
    "character = text[0]\n",
    "print(character)  # Output: _"
   ]
  },
  {
   "cell_type": "code",
   "execution_count": 85,
   "id": "accd35b4-acaa-44cf-a40b-894ff7e031a6",
   "metadata": {},
   "outputs": [
    {
     "name": "stdout",
     "output_type": "stream",
     "text": [
      "8\n"
     ]
    }
   ],
   "source": [
    "text = \"_Coding For All_\"\n",
    "last_index = len(text) - 8\n",
    "print(last_index)  # Output: 16"
   ]
  },
  {
   "cell_type": "code",
   "execution_count": 87,
   "id": "c78c9e00-ce8f-4e54-9a1c-37f4bd689115",
   "metadata": {},
   "outputs": [
    {
     "name": "stdout",
     "output_type": "stream",
     "text": [
      " \n"
     ]
    }
   ],
   "source": [
    "text = \"Coding For All\"\n",
    "\n",
    "try:\n",
    "  # Access the character at index 10\n",
    "  character = text[10]\n",
    "  print(character)  # Output: \" \" (space)\n",
    "except IndexError:\n",
    "  print(\"Index out of range. String length is\", len(text))"
   ]
  },
  {
   "cell_type": "code",
   "execution_count": 89,
   "id": "ef7019e9-f49b-4c90-af21-7468b8e402ee",
   "metadata": {},
   "outputs": [
    {
     "name": "stdout",
     "output_type": "stream",
     "text": [
      "The first 'C' is at position: 2\n"
     ]
    }
   ],
   "source": [
    "text = \"Coding For All\"\n",
    "\n",
    "try:\n",
    "  # Find the index of the first 'C'\n",
    "  position = text.index(\"d\")\n",
    "  print(\"The first 'C' is at position:\", position)\n",
    "except ValueError:\n",
    "  print(\"The character 'C' is not found in the string.\")"
   ]
  },
  {
   "cell_type": "code",
   "execution_count": 91,
   "id": "2aa708ba-e376-4d4e-b85f-c8f4630268b3",
   "metadata": {},
   "outputs": [
    {
     "name": "stdout",
     "output_type": "stream",
     "text": [
      "The character 'l' is not found in the string.\n"
     ]
    }
   ],
   "source": [
    "text = \"Coding For All People\"\n",
    "\n",
    "try:\n",
    "  # Find the last index of 'l' using rfind\n",
    "  position = text.rfind(\"5\")\n",
    "  if position != -1:\n",
    "    print(\"The last 'l' is at position:\", position)\n",
    "  else:\n",
    "    print(\"The character 'l' is not found in the string.\")\n",
    "except ValueError:\n",
    "  print(\"An error occurred while searching for 'l'.\")  # Handle potential unexpected errors\n"
   ]
  },
  {
   "cell_type": "code",
   "execution_count": 92,
   "id": "ba1b3c46-dd6c-4307-a03e-9f517b3ba5ea",
   "metadata": {},
   "outputs": [
    {
     "name": "stdout",
     "output_type": "stream",
     "text": [
      "The first 'because' is at position: 31\n"
     ]
    }
   ],
   "source": [
    "sentence = \"You cannot end a sentence with because because because is a conjunction\"\n",
    "\n",
    "try:\n",
    "  # Find the first occurrence of 'because' using index\n",
    "  position = sentence.index(\"because\")\n",
    "  print(\"The first 'because' is at position:\", position)\n",
    "except ValueError:\n",
    "  print(\"'because' is not found in the sentence.\")"
   ]
  },
  {
   "cell_type": "code",
   "execution_count": 93,
   "id": "a37d3a4e-c4c1-474c-b538-69ef8c90d53d",
   "metadata": {},
   "outputs": [
    {
     "name": "stdout",
     "output_type": "stream",
     "text": [
      "th because because be\n"
     ]
    }
   ],
   "source": [
    "sentence = \"You cannot end a sentence with because because because is a conjunction\"\n",
    "\n",
    "# Starting and ending positions of the phrase (inclusive)\n",
    "start_pos = 28  # Index of the first 'b' in \"because\"\n",
    "end_pos = 49  # Index of the last 'e' in \"because\" (end_pos is exclusive in slicing)\n",
    "\n",
    "sliced_phrase = sentence[start_pos:end_pos]\n",
    "\n",
    "print(sliced_phrase)  # Output: \"because because because\""
   ]
  },
  {
   "cell_type": "code",
   "execution_count": 97,
   "id": "891c9e3a-3fe6-4989-bf52-a73ce6f1cfa9",
   "metadata": {},
   "outputs": [
    {
     "name": "stdout",
     "output_type": "stream",
     "text": [
      "The first 'because' is at position: 55\n"
     ]
    }
   ],
   "source": [
    "sentence = \"You cannot end a sentence with because because because is a conjunction\"\n",
    "\n",
    "try:\n",
    "  # Find the first occurrence of 'because' using index\n",
    "  position = sentence.index(\"is\")\n",
    "  print(\"The first 'because' is at position:\", position)\n",
    "except ValueError:\n",
    "  print(\"'because' is not found in the sentence.\")"
   ]
  },
  {
   "cell_type": "code",
   "execution_count": 95,
   "id": "0dbea8a1-10ba-46f0-900a-1548876c5dba",
   "metadata": {},
   "outputs": [
    {
     "name": "stdout",
     "output_type": "stream",
     "text": [
      "th because because be\n"
     ]
    }
   ],
   "source": [
    "sentence = \"You cannot end a sentence with because because because is a conjunction\"\n",
    "\n",
    "# Starting and ending positions (inclusive for start, exclusive for end)\n",
    "start_pos = 28  # Index of the first 'b' in \"because\"\n",
    "end_pos = 49  # Index of the last 'e' in \"because\" (end_pos is exclusive)\n",
    "\n",
    "sliced_phrase = sentence[start_pos:end_pos]\n",
    "\n",
    "print(sliced_phrase)  # Output: \"because because because\""
   ]
  },
  {
   "cell_type": "code",
   "execution_count": 98,
   "id": "2d4ef5fa-79f4-467b-9ba3-3adc80ef4c1c",
   "metadata": {},
   "outputs": [
    {
     "name": "stdout",
     "output_type": "stream",
     "text": [
      "&nbsp;&nbsp; Coding For All &nbsp;&nbsp;&nbsp; &nbsp;\n"
     ]
    }
   ],
   "source": [
    "text = '&nbsp;&nbsp; Coding For All &nbsp;&nbsp;&nbsp; &nbsp;'\n",
    "stripped_text = text.strip()\n",
    "print(stripped_text)  # Output: Coding For All"
   ]
  },
  {
   "cell_type": "code",
   "execution_count": 101,
   "id": "70d678dd-50ba-4e70-a21f-776451cd0c89",
   "metadata": {},
   "outputs": [
    {
     "name": "stdout",
     "output_type": "stream",
     "text": [
      "Django   Flask   Bottle   Pyramid   Falcon\n"
     ]
    }
   ],
   "source": [
    "python_libs = [\"Django\", \"Flask\", \"Bottle\", \"Pyramid\", \"Falcon\"]\n",
    "\n",
    "joined_string = \"   \".join(python_libs)\n",
    "\n",
    "print(joined_string)"
   ]
  },
  {
   "cell_type": "code",
   "execution_count": 105,
   "id": "264abb4b-62b4-4158-8ce7-bd1b134f27f0",
   "metadata": {},
   "outputs": [
    {
     "name": "stdout",
     "output_type": "stream",
     "text": [
      "I am enjoying this challenge.\n",
      "I just wonder what is next.\n"
     ]
    }
   ],
   "source": [
    "text = \"I am enjoying this challenge.\\nI just wonder what is next.\"\n",
    "\n",
    "print(text)"
   ]
  },
  {
   "cell_type": "code",
   "execution_count": 107,
   "id": "e9a61566-7e44-4b56-8c53-4d05c52fd4c2",
   "metadata": {},
   "outputs": [
    {
     "name": "stdin",
     "output_type": "stream",
     "text": [
      "Name\tAge\tCountry\tCity sagat\n"
     ]
    },
    {
     "name": "stdout",
     "output_type": "stream",
     "text": [
      "sagat\n"
     ]
    }
   ],
   "source": [
    "print(input(\"Name\\tAge\\tCountry\\tCity\"))\n",
    "\n"
   ]
  },
  {
   "cell_type": "code",
   "execution_count": 110,
   "id": "bcff5518-0292-437a-a9a4-3c8ecef1dd57",
   "metadata": {},
   "outputs": [
    {
     "name": "stdout",
     "output_type": "stream",
     "text": [
      "radius = 10\n",
      "area = 314.00 meters square\n",
      "The area of a circle with radius 10 is 314.00 meters square.\n"
     ]
    }
   ],
   "source": [
    "radius = 10\n",
    "area = 3.14 * radius ** 2\n",
    "\n",
    "print(f\"radius = {radius}\")\n",
    "print(f\"area = {area:.2f} meters square\")  # Format area to 2 decimal places\n",
    "print(f\"The area of a circle with radius {radius} is {area:.2f} meters square.\")\n",
    "\n"
   ]
  },
  {
   "cell_type": "code",
   "execution_count": 111,
   "id": "e0d88be4-0da6-4f29-853c-46d05cac4c15",
   "metadata": {},
   "outputs": [
    {
     "ename": "SyntaxError",
     "evalue": "invalid syntax (3669654853.py, line 1)",
     "output_type": "error",
     "traceback": [
      "\u001b[1;36m  Cell \u001b[1;32mIn[111], line 1\u001b[1;36m\u001b[0m\n\u001b[1;33m    ```sh\u001b[0m\n\u001b[1;37m    ^\u001b[0m\n\u001b[1;31mSyntaxError\u001b[0m\u001b[1;31m:\u001b[0m invalid syntax\n"
     ]
    }
   ],
   "source": [
    "\n",
    "```sh\n",
    "8 + 6 = 14\n",
    "8 - 6 = 2\n",
    "8 * 6 = 48\n",
    "8 / 6 = 1.33\n",
    "8 % 6 = 2\n",
    "8 // 6 = 1\n",
    "8 ** 6 = 262144\n",
    "```"
   ]
  },
  {
   "cell_type": "code",
   "execution_count": 115,
   "id": "3c19a12a-5799-4189-a636-47e73afe649d",
   "metadata": {},
   "outputs": [
    {
     "data": {
      "text/plain": [
       "(17, 896)"
      ]
     },
     "execution_count": 115,
     "metadata": {},
     "output_type": "execute_result"
    }
   ],
   "source": [
    "8 +9, 8+888\n"
   ]
  },
  {
   "cell_type": "code",
   "execution_count": 118,
   "id": "b8e197f3-155a-4e25-b89f-f4c48c55f6e1",
   "metadata": {},
   "outputs": [],
   "source": [
    "b = []"
   ]
  },
  {
   "cell_type": "code",
   "execution_count": 119,
   "id": "9100ea05-39d9-4786-803b-39101ebf83ab",
   "metadata": {},
   "outputs": [
    {
     "name": "stdout",
     "output_type": "stream",
     "text": [
      "<class 'list'>\n"
     ]
    }
   ],
   "source": [
    "print(type(b))"
   ]
  },
  {
   "cell_type": "code",
   "execution_count": null,
   "id": "c4a824ca-4288-4f24-99d0-d06ad6a9b413",
   "metadata": {},
   "outputs": [],
   "source": [
    "c = {"
   ]
  },
  {
   "cell_type": "code",
   "execution_count": 2,
   "id": "8516866c-df18-4d9f-bc8b-ddec379708fc",
   "metadata": {},
   "outputs": [],
   "source": [
    "x = 'sagar"
   ]
  },
  {
   "cell_type": "code",
   "execution_count": 3,
   "id": "84621483-3af4-4522-87ad-46fa9433a130",
   "metadata": {},
   "outputs": [
    {
     "name": "stdout",
     "output_type": "stream",
     "text": [
      "sagar\n"
     ]
    }
   ],
   "source": [
    "print(x)"
   ]
  },
  {
   "cell_type": "code",
   "execution_count": 5,
   "id": "75504311-46a6-4994-8a7b-a10edd37b892",
   "metadata": {},
   "outputs": [],
   "source": [
    " # 6. List Methods"
   ]
  },
  {
   "cell_type": "code",
   "execution_count": 6,
   "id": "8e087771-17aa-40dd-ac3b-162ec644d916",
   "metadata": {},
   "outputs": [],
   "source": [
    "x = ['sagar','bawankule', 'age', 'nagpur']\n"
   ]
  },
  {
   "cell_type": "code",
   "execution_count": 7,
   "id": "8470fce4-f075-49d5-8031-35767651a25f",
   "metadata": {},
   "outputs": [
    {
     "name": "stdout",
     "output_type": "stream",
     "text": [
      "['sagar', 'bawankule', 'age', 'nagpur']\n"
     ]
    }
   ],
   "source": [
    "print(x)"
   ]
  },
  {
   "cell_type": "code",
   "execution_count": 13,
   "id": "23426e47-dd7e-416b-a7d2-7b2549bbeda1",
   "metadata": {},
   "outputs": [
    {
     "name": "stdout",
     "output_type": "stream",
     "text": [
      "4\n"
     ]
    }
   ],
   "source": [
    "print(len(x),)"
   ]
  },
  {
   "cell_type": "code",
   "execution_count": 15,
   "id": "d4bb2be5-0706-4852-b43b-83872fe9b929",
   "metadata": {},
   "outputs": [
    {
     "ename": "NameError",
     "evalue": "name 'index' is not defined",
     "output_type": "error",
     "traceback": [
      "\u001b[1;31m---------------------------------------------------------------------------\u001b[0m",
      "\u001b[1;31mNameError\u001b[0m                                 Traceback (most recent call last)",
      "Cell \u001b[1;32mIn[15], line 1\u001b[0m\n\u001b[1;32m----> 1\u001b[0m \u001b[38;5;28mprint\u001b[39m(index[\u001b[38;5;241m2\u001b[39m], x)\n",
      "\u001b[1;31mNameError\u001b[0m: name 'index' is not defined"
     ]
    }
   ],
   "source": [
    "print(index[2], x)"
   ]
  },
  {
   "cell_type": "code",
   "execution_count": 21,
   "id": "e3a1a432-dc6a-4feb-84a1-e4095920c588",
   "metadata": {},
   "outputs": [
    {
     "data": {
      "text/plain": [
       "0"
      ]
     },
     "execution_count": 21,
     "metadata": {},
     "output_type": "execute_result"
    }
   ],
   "source": [
    "x.index('sagar')"
   ]
  },
  {
   "cell_type": "code",
   "execution_count": 22,
   "id": "9bd4d172-724e-4110-84a5-85aec324681b",
   "metadata": {},
   "outputs": [],
   "source": [
    "it_companies = [\"Facebook\", \"Google\", \"Microsoft\", \"Apple\", \"IBM\", \"Oracle\", \"Amazon\"]"
   ]
  },
  {
   "cell_type": "code",
   "execution_count": 23,
   "id": "f751fa09-6515-47e8-b8f3-448401e3c674",
   "metadata": {},
   "outputs": [
    {
     "name": "stdout",
     "output_type": "stream",
     "text": [
      "['Facebook', 'Google', 'Microsoft', 'Apple', 'IBM', 'Oracle', 'Amazon']\n"
     ]
    }
   ],
   "source": [
    "print(it_companies)"
   ]
  },
  {
   "cell_type": "code",
   "execution_count": 24,
   "id": "dd4b3846-3881-4fbd-ab3b-ab3444e43693",
   "metadata": {},
   "outputs": [
    {
     "name": "stdout",
     "output_type": "stream",
     "text": [
      "['Facebook', 'Google', 'Microsoft', 'Apple', 'IBM', 'Oracle', 'Amazon']\n"
     ]
    }
   ],
   "source": [
    "it_companies = [\"Facebook\", \"Google\", \"Microsoft\", \"Apple\", \"IBM\", \"Oracle\", \"Amazon\"]\n",
    "print(it_companies)"
   ]
  },
  {
   "cell_type": "code",
   "execution_count": 25,
   "id": "c8eafa89-068a-4117-a542-46e8bca794d4",
   "metadata": {},
   "outputs": [
    {
     "name": "stdout",
     "output_type": "stream",
     "text": [
      "7\n"
     ]
    }
   ],
   "source": [
    "it_companies = [\"Facebook\", \"Google\", \"Microsoft\", \"Apple\", \"IBM\", \"Oracle\", \"Amazon\"]\n",
    "number_of_companies = len(it_companies)\n",
    "print(number_of_companies)"
   ]
  },
  {
   "cell_type": "code",
   "execution_count": 32,
   "id": "51edb57c-4206-4637-8933-60693b3d1524",
   "metadata": {},
   "outputs": [
    {
     "data": {
      "text/plain": [
       "1"
      ]
     },
     "execution_count": 32,
     "metadata": {},
     "output_type": "execute_result"
    }
   ],
   "source": [
    "it_companies.index('Google')"
   ]
  },
  {
   "cell_type": "code",
   "execution_count": 38,
   "id": "5c1a7afc-a71f-4b8b-b25a-001d93620fa8",
   "metadata": {},
   "outputs": [
    {
     "name": "stdout",
     "output_type": "stream",
     "text": [
      "Facebook\n",
      "Google\n",
      "Microsoft\n",
      "Apple\n",
      "IBM\n",
      "Oracle\n",
      "Amazon\n"
     ]
    }
   ],
   "source": [
    "for i in it_companies:\n",
    "\n",
    "   print(i)"
   ]
  },
  {
   "cell_type": "code",
   "execution_count": 39,
   "id": "ff507bc7-7b18-4427-9c2f-1e8980eb6314",
   "metadata": {},
   "outputs": [
    {
     "name": "stdout",
     "output_type": "stream",
     "text": [
      "['Facebook', 'Google', 'Meta', 'Apple', 'IBM', 'Oracle', 'Amazon']\n"
     ]
    }
   ],
   "source": [
    "it_companies = [\"Facebook\", \"Google\", \"Microsoft\", \"Apple\", \"IBM\", \"Oracle\", \"Amazon\"]\n",
    "\n",
    "# Modify the element at index 2 (Microsoft)\n",
    "it_companies[2] = \"Meta\"\n",
    "\n",
    "print(it_companies)"
   ]
  },
  {
   "cell_type": "code",
   "execution_count": 40,
   "id": "c5cc1a79-7942-467c-b2f0-95f61031d6e1",
   "metadata": {},
   "outputs": [
    {
     "name": "stdout",
     "output_type": "stream",
     "text": [
      "['Facebook', 'Google', 'Microsoft', 'Apple', 'IBM', 'Oracle', 'Amazon', 'Alibaba']\n"
     ]
    }
   ],
   "source": [
    "it_companies = [\"Facebook\", \"Google\", \"Microsoft\", \"Apple\", \"IBM\", \"Oracle\", \"Amazon\"]\n",
    "\n",
    "# Add a new company (assuming duplicates are allowed)\n",
    "it_companies.append(\"Alibaba\")\n",
    "\n",
    "print(it_companies)"
   ]
  },
  {
   "cell_type": "code",
   "execution_count": 41,
   "id": "6c3377aa-4f7b-4cee-b60d-1a8a0a6d4117",
   "metadata": {},
   "outputs": [
    {
     "name": "stdout",
     "output_type": "stream",
     "text": [
      "['Facebook', 'Google', 'Microsoft', 'Apple', 'IBM', 'It', 'Amazon']\n"
     ]
    }
   ],
   "source": [
    "it_companies = [\"Facebook\", \"Google\", \"Microsoft\", \"Apple\", \"IBM\", \"Oracle\", \"Amazon\"]\n",
    "\n",
    "# Modify the element at index 2 (Microsoft)\n",
    "it_companies[5] = \"It\"\n",
    "\n",
    "print(it_companies)"
   ]
  },
  {
   "cell_type": "code",
   "execution_count": 43,
   "id": "6b38b3e7-2ad2-474d-92be-43f91d98ef4d",
   "metadata": {},
   "outputs": [
    {
     "name": "stdout",
     "output_type": "stream",
     "text": [
      "joined_String\n"
     ]
    }
   ],
   "source": [
    "it_companies = [\"Facebook\", \"Google\", \"Microsoft\", \"Apple\", \"IBM\", \"Oracle\", \"Amazon\"]\n",
    "\n",
    "joined_string = \"#;&nbsp; \".join(it_companies)\n",
    "\n",
    "print('joined_String')"
   ]
  },
  {
   "cell_type": "code",
   "execution_count": 45,
   "id": "866e5a5a-731b-4fdf-bf90-23944514b6cd",
   "metadata": {},
   "outputs": [
    {
     "name": "stdout",
     "output_type": "stream",
     "text": [
      "['Amazon', 'Apple', 'Facebook', 'Google', 'IBM', 'Microsoft', 'Oracle']\n"
     ]
    }
   ],
   "source": [
    "\n",
    "it_companies = [\"Facebook\", \"Google\", \"Microsoft\", \"Apple\", \"IBM\", \"Oracle\", \"Amazon\"]\n",
    "\n",
    "# Sort the list in ascending order (default)\n",
    "it_companies.sort()\n",
    "\n",
    "print(it_companies)\n",
    "\n"
   ]
  },
  {
   "cell_type": "code",
   "execution_count": 46,
   "id": "13c1c962-880a-4db8-bc0f-30a7f9bbe5fb",
   "metadata": {},
   "outputs": [
    {
     "name": "stdout",
     "output_type": "stream",
     "text": [
      "['Amazon', 'Oracle', 'IBM', 'Apple', 'Microsoft', 'Google', 'Facebook']\n"
     ]
    }
   ],
   "source": [
    "it_companies = [\"Facebook\", \"Google\", \"Microsoft\", \"Apple\", \"IBM\", \"Oracle\", \"Amazon\"]\n",
    "\n",
    "# Reverse the list in descending order\n",
    "it_companies.reverse()\n",
    "\n",
    "print(it_companies)"
   ]
  },
  {
   "cell_type": "code",
   "execution_count": 54,
   "id": "d3c601f4-c515-42af-9a82-dc5f9220c1b9",
   "metadata": {},
   "outputs": [
    {
     "name": "stdout",
     "output_type": "stream",
     "text": [
      "['IBM', 'Oracle', 'Amazon']\n"
     ]
    }
   ],
   "source": [
    "it_companies = [\"Facebook\", \"Google\", \"Microsoft\", \"Apple\", \"IBM\", \"Oracle\", \"Amazon\"]\n",
    "\n",
    "# Get the first 3 companies using slicing\n",
    "first_three = it_companies[4:7]  # Slice up to, but not including, index 3\n",
    "\n",
    "print(first_three)"
   ]
  },
  {
   "cell_type": "code",
   "execution_count": 64,
   "id": "fafe1d9d-8b32-471b-9ce9-3c38a9f31d0a",
   "metadata": {},
   "outputs": [
    {
     "name": "stdout",
     "output_type": "stream",
     "text": [
      "Apple\n"
     ]
    }
   ],
   "source": [
    "it_companies = [\"Facebook\", \"Google\", \"Microsoft\", \"Apple\", \"IBM\", \"Oracle\", \"Amazon\"]\n",
    "\n",
    "# Get the first 3 companies using slicing\n",
    "first_three = it_companies[3]  # Slice up to, but not including, index 3\n",
    "\n",
    "print(first_three)"
   ]
  },
  {
   "cell_type": "code",
   "execution_count": 65,
   "id": "ad54d521-c94a-4e31-9ba8-5f2a47b4fe06",
   "metadata": {},
   "outputs": [
    {
     "name": "stdout",
     "output_type": "stream",
     "text": [
      "IBM\n"
     ]
    }
   ],
   "source": [
    "it_companies = [\"Facebook\", \"Google\", \"Microsoft\", \"Apple\", \"IBM\", \"Oracle\", \"Amazon\"]\n",
    "\n",
    "# Get the first 3 companies using slicing\n",
    "first_three = it_companies[-3]  # Slice up to, but not including, index 3\n",
    "\n",
    "print(first_three)"
   ]
  },
  {
   "cell_type": "code",
   "execution_count": 67,
   "id": "db72587e-31ce-4a64-8ba4-e1a1f99c90ca",
   "metadata": {},
   "outputs": [
    {
     "name": "stdout",
     "output_type": "stream",
     "text": [
      "['Facebook', 'Google', 'Microsoft', 'Apple', 'Oracle', 'Amazon']\n"
     ]
    }
   ],
   "source": [
    "it_companies = [\"Facebook\", \"Google\", \"Microsoft\", \"Apple\", \"IBM\", \"Oracle\", \"Amazon\"]\n",
    "\n",
    "# Remove the element at index 0 (first company)\n",
    "del it_companies[4]\n",
    "\n",
    "print(it_companies)"
   ]
  },
  {
   "cell_type": "code",
   "execution_count": 74,
   "id": "70fe5851-cf9f-4c51-ae4e-3e6cb4de04ce",
   "metadata": {},
   "outputs": [
    {
     "name": "stdout",
     "output_type": "stream",
     "text": [
      "['Facebook', 'Oracle', 'Amazon']\n"
     ]
    }
   ],
   "source": [
    "it_companies = [\"Facebook\", \"Google\", \"Microsoft\", \"Apple\", \"IBM\", \"Oracle\", \"Amazon\"]\n",
    "\n",
    "# Remove the element at index 0 (first company)\n",
    "del it_companies[1:5]\n",
    "\n",
    "print(it_companies)"
   ]
  },
  {
   "cell_type": "code",
   "execution_count": 78,
   "id": "2969fde3-a929-4676-baed-f1b80188191b",
   "metadata": {},
   "outputs": [
    {
     "name": "stdout",
     "output_type": "stream",
     "text": [
      "['Facebook', 'Google', 'Microsoft', 'Apple', 'IBM', 'Amazon']\n"
     ]
    }
   ],
   "source": [
    "it_companies = [\"Facebook\", \"Google\", \"Microsoft\", \"Apple\", \"IBM\", \"Oracle\", \"Amazon\"]\n",
    "\n",
    "# Delete the reference to the list\n",
    "del it_companies[5]\n",
    "\n",
    "print(it_companies)\n",
    "\n",
    "# Trying to access it_companies will now result in an error\n",
    "# print(it_companies)  # This will cause an error"
   ]
  },
  {
   "cell_type": "code",
   "execution_count": 79,
   "id": "c9904f39-5a9e-4500-af4b-f30a63284e80",
   "metadata": {},
   "outputs": [
    {
     "name": "stdout",
     "output_type": "stream",
     "text": [
      "[1, 2, 3, 4, 5, 6]\n"
     ]
    }
   ],
   "source": [
    "list1 = [1, 2, 3]\n",
    "list2 = [4, 5, 6]\n",
    "\n",
    "combined_list = list1 + list2\n",
    "\n",
    "print(combined_list)"
   ]
  },
  {
   "cell_type": "code",
   "execution_count": 82,
   "id": "8604ed64-29a4-42e9-9cff-7078a415d3fd",
   "metadata": {},
   "outputs": [
    {
     "name": "stdout",
     "output_type": "stream",
     "text": [
      "['HTML', 'CSS', 'JS', 'React', 'Redux', 'Node', 'Express', 'MongoDB']\n"
     ]
    }
   ],
   "source": [
    " front_end = ['HTML', 'CSS', 'JS', 'React', 'Redux']\n",
    " back_end = ['Node','Express', 'MongoDB']\n",
    "\n",
    " x = front_end + back_end\n",
    " print(x)"
   ]
  },
  {
   "cell_type": "code",
   "execution_count": null,
   "id": "a49ec015-2682-44e9-bbb1-9ad6673053c4",
   "metadata": {},
   "outputs": [],
   "source": []
  },
  {
   "cell_type": "code",
   "execution_count": 84,
   "id": "d2c5f249-c672-4003-8b61-0ec56b0983ec",
   "metadata": {},
   "outputs": [
    {
     "ename": "ValueError",
     "evalue": "'vue' is not in list",
     "output_type": "error",
     "traceback": [
      "\u001b[1;31m---------------------------------------------------------------------------\u001b[0m",
      "\u001b[1;31mValueError\u001b[0m                                Traceback (most recent call last)",
      "Cell \u001b[1;32mIn[84], line 13\u001b[0m\n\u001b[0;32m     10\u001b[0m full_stack \u001b[38;5;241m=\u001b[39m all_tech\u001b[38;5;241m.\u001b[39mcopy()  \u001b[38;5;66;03m# Using copy() to create an independent copy\u001b[39;00m\n\u001b[0;32m     12\u001b[0m \u001b[38;5;66;03m# Insert Python and SQL after Redux in the full_stack list\u001b[39;00m\n\u001b[1;32m---> 13\u001b[0m full_stack\u001b[38;5;241m.\u001b[39minsert(full_stack\u001b[38;5;241m.\u001b[39mindex(\u001b[38;5;124m\"\u001b[39m\u001b[38;5;124mvue\u001b[39m\u001b[38;5;124m\"\u001b[39m) \u001b[38;5;241m+\u001b[39m \u001b[38;5;241m1\u001b[39m, \u001b[38;5;124m\"\u001b[39m\u001b[38;5;124mPython\u001b[39m\u001b[38;5;124m\"\u001b[39m)\n\u001b[0;32m     14\u001b[0m full_stack\u001b[38;5;241m.\u001b[39minsert(full_stack\u001b[38;5;241m.\u001b[39mindex(\u001b[38;5;124m\"\u001b[39m\u001b[38;5;124mPython\u001b[39m\u001b[38;5;124m\"\u001b[39m) \u001b[38;5;241m+\u001b[39m \u001b[38;5;241m1\u001b[39m, \u001b[38;5;124m\"\u001b[39m\u001b[38;5;124mSQL\u001b[39m\u001b[38;5;124m\"\u001b[39m)\n\u001b[0;32m     16\u001b[0m \u001b[38;5;28mprint\u001b[39m(full_stack)\n",
      "\u001b[1;31mValueError\u001b[0m: 'vue' is not in list"
     ]
    }
   ],
   "source": [
    "# Define the lists\n",
    "front_end = [\"HTML\", \"CSS\", \"JavaScript\"]\n",
    "back_end = [\"Python\", \"Java\", \"Node.js\"]\n",
    "frameworks = [\"React\", \"Angular\", \"Vue\", \"Redux\"]\n",
    "\n",
    "# Join the front-end and back-end lists using concatenation\n",
    "all_tech = front_end + back_end\n",
    "\n",
    "# Copy the joined list and assign it to a new variable\n",
    "full_stack = all_tech.copy()  # Using copy() to create an independent copy\n",
    "\n",
    "# Insert Python and SQL after Redux in the full_stack list\n",
    "full_stack.insert(full_stack.index(\"vue\") + 1, \"Python\")\n",
    "full_stack.insert(full_stack.index(\"Python\") + 1, \"SQL\")\n",
    "\n",
    "print(full_stack)"
   ]
  },
  {
   "cell_type": "code",
   "execution_count": 86,
   "id": "dc21b1d7-9c3c-4af2-a4f3-955bc188bfa0",
   "metadata": {},
   "outputs": [
    {
     "name": "stdout",
     "output_type": "stream",
     "text": [
      "[19, 22, 19, 24, 20, 25, 26, 24, 25, 24]\n"
     ]
    }
   ],
   "source": [
    "ages = [19, 22, 19, 24, 20, 25, 26, 24, 25, 24]\n",
    "print(ages)"
   ]
  },
  {
   "cell_type": "code",
   "execution_count": 87,
   "id": "020a0e6b-30c2-49cd-88a2-7fa20d6ece0c",
   "metadata": {},
   "outputs": [
    {
     "name": "stdout",
     "output_type": "stream",
     "text": [
      "[1, 2, 5, 8, 9]\n"
     ]
    }
   ],
   "source": [
    "my_list = [5, 2, 8, 1, 9]\n",
    "my_list.sort()  # Sorts the list in ascending order (default)\n",
    "print(my_list) "
   ]
  },
  {
   "cell_type": "code",
   "execution_count": 88,
   "id": "b5fed0f7-3801-429b-bf17-11720209607a",
   "metadata": {},
   "outputs": [
    {
     "name": "stdout",
     "output_type": "stream",
     "text": [
      "[1, 1, 2, 5, 8, 9, 9]\n"
     ]
    }
   ],
   "source": [
    "my_list = [5, 2, 8, 1, 9]\n",
    "\n",
    "# Sort the list in ascending order\n",
    "my_list.sort()\n",
    "\n",
    "# Find the minimum and maximum ages\n",
    "min_age = my_list[0]\n",
    "max_age = my_list[-1]\n",
    "\n",
    "# Option 1: Add min and max to the beginning (modifies the sorted list)\n",
    "\n",
    "# Insert min_age at the beginning\n",
    "my_list.insert(0, min_age)\n",
    "\n",
    "# Insert max_age at the end (after sorting, it will be at the second-to-last position)\n",
    "my_list.insert(len(my_list) - 1, max_age)\n",
    "\n",
    "print(my_list) "
   ]
  },
  {
   "cell_type": "code",
   "execution_count": 91,
   "id": "79a1f069-eb21-4257-a9a4-4dead8cee776",
   "metadata": {},
   "outputs": [
    {
     "name": "stdout",
     "output_type": "stream",
     "text": [
      "5\n"
     ]
    }
   ],
   "source": [
    "my_list = [5, 2, 8, 1, 9]\n",
    "\n",
    "# Sort the list in ascending order\n",
    "my_list.sort()\n",
    "\n",
    "# Find the list length\n",
    "list_length = len(my_list)\n",
    "\n",
    "print(list_length)\n",
    "\n"
   ]
  },
  {
   "cell_type": "code",
   "execution_count": 92,
   "id": "7be71b12-d665-47ee-b341-9092bb0eb937",
   "metadata": {},
   "outputs": [
    {
     "name": "stdout",
     "output_type": "stream",
     "text": [
      "Average age: 5.0\n"
     ]
    }
   ],
   "source": [
    "my_list = [5, 2, 8, 1, 9]\n",
    "\n",
    "# Calculate the sum of all ages\n",
    "total_age = sum(my_list)\n",
    "\n",
    "# Find the list length\n",
    "list_length = len(my_list)\n",
    "\n",
    "# Calculate the average age\n",
    "average_age = total_age / list_length\n",
    "\n",
    "print(f\"Average age: {average_age}\")"
   ]
  },
  {
   "cell_type": "code",
   "execution_count": 93,
   "id": "ff7a0848-c27d-4c7b-a8ad-078270c2de22",
   "metadata": {},
   "outputs": [
    {
     "name": "stdout",
     "output_type": "stream",
     "text": [
      "Range of ages: 8\n"
     ]
    }
   ],
   "source": [
    "my_list = [5, 2, 8, 1, 9]\n",
    "\n",
    "# Sort the list in ascending order (optional, but recommended for clarity)\n",
    "my_list.sort()\n",
    "\n",
    "# Find the minimum and maximum ages directly from the sorted list\n",
    "min_age = my_list[0]\n",
    "max_age = my_list[-1]\n",
    "\n",
    "# Calculate the age range (difference between max and min)\n",
    "age_range = max_age - min_age\n",
    "\n",
    "print(f\"Range of ages: {age_range}\")"
   ]
  },
  {
   "cell_type": "code",
   "execution_count": 96,
   "id": "da4393ba-12ac-4d1a-8167-19fb77688a11",
   "metadata": {},
   "outputs": [
    {
     "name": "stdout",
     "output_type": "stream",
     "text": [
      "5.0\n"
     ]
    }
   ],
   "source": [
    "my_list = [5, 2, 8, 1, 9]\n",
    "\n",
    "# Sort the list in ascending order (optional, but recommended for clarity)\n",
    "my_list.sort()\n",
    "\n",
    "# Find the minimum and maximum ages\n",
    "min_age = my_list[0]\n",
    "max_age = my_list[-1]\n",
    "\n",
    "# Calculate the sum of all ages\n",
    "total_age = sum(my_list)\n",
    "\n",
    "# Find the list length\n",
    "list_length = len(my_list)\n",
    "\n",
    "# Calculate the average age\n",
    "average_age = total_age / list_length\n",
    "\n",
    "print(average_age)"
   ]
  },
  {
   "cell_type": "code",
   "execution_count": 97,
   "id": "bed90725-0dad-4f36-81fd-88e8605d8043",
   "metadata": {},
   "outputs": [
    {
     "name": "stdout",
     "output_type": "stream",
     "text": [
      "First three countries: China\n",
      "Scandinavian countries: ['Russia', 'USA', 'Finland', 'Sweden', 'Norway', 'Denmark']\n"
     ]
    }
   ],
   "source": [
    "countries = ['China', 'Russia', 'USA', 'Finland', 'Sweden', 'Norway', 'Denmark']\n",
    "\n",
    "# Unpack the first three countries\n",
    "first_three, *scandinavian_countries = countries\n",
    "\n",
    "# Verify the unpacked lists\n",
    "print(f\"First three countries: {first_three}\")\n",
    "print(f\"Scandinavian countries: {scandinavian_countries}\")"
   ]
  },
  {
   "cell_type": "code",
   "execution_count": 1,
   "id": "784ccb74-4ce4-443e-8d3b-a830703b28b1",
   "metadata": {},
   "outputs": [],
   "source": [
    "# 7. Tuple."
   ]
  },
  {
   "cell_type": "code",
   "execution_count": 4,
   "id": "7f7f5095-cc4e-4146-8520-a32fece3ea86",
   "metadata": {},
   "outputs": [],
   "source": [
    "tup = ('sagar', 'bawankule' , 'age')"
   ]
  },
  {
   "cell_type": "code",
   "execution_count": 6,
   "id": "827db160-267e-4349-89dd-e91345f8739b",
   "metadata": {},
   "outputs": [
    {
     "data": {
      "text/plain": [
       "'age'"
      ]
     },
     "execution_count": 6,
     "metadata": {},
     "output_type": "execute_result"
    }
   ],
   "source": [
    "tup[2]"
   ]
  },
  {
   "cell_type": "code",
   "execution_count": 7,
   "id": "bdee15ff-d0aa-4cf0-9737-da275d052f71",
   "metadata": {},
   "outputs": [],
   "source": [
    "x = ()"
   ]
  },
  {
   "cell_type": "code",
   "execution_count": 8,
   "id": "1dce5738-2a75-461f-800c-8adbad64ab0f",
   "metadata": {},
   "outputs": [
    {
     "name": "stdout",
     "output_type": "stream",
     "text": [
      "<class 'tuple'>\n"
     ]
    }
   ],
   "source": [
    "print(type(x))"
   ]
  },
  {
   "cell_type": "code",
   "execution_count": 9,
   "id": "87aac628-809f-4eff-9900-1e247b52c612",
   "metadata": {},
   "outputs": [],
   "source": [
    "b = ( 'sagar', 'bawankule')"
   ]
  },
  {
   "cell_type": "code",
   "execution_count": 10,
   "id": "e36bbcc1-79ed-4d1e-bfb7-fa67bbf28085",
   "metadata": {},
   "outputs": [],
   "source": [
    "c = ('age')"
   ]
  },
  {
   "cell_type": "code",
   "execution_count": 13,
   "id": "9203bafb-50fd-40ce-b201-1c0b6bc3f631",
   "metadata": {},
   "outputs": [
    {
     "ename": "AttributeError",
     "evalue": "'tuple' object has no attribute 'join'",
     "output_type": "error",
     "traceback": [
      "\u001b[1;31m---------------------------------------------------------------------------\u001b[0m",
      "\u001b[1;31mAttributeError\u001b[0m                            Traceback (most recent call last)",
      "Cell \u001b[1;32mIn[13], line 1\u001b[0m\n\u001b[1;32m----> 1\u001b[0m x\u001b[38;5;241m.\u001b[39mjoin(b,c)\n\u001b[0;32m      2\u001b[0m \u001b[38;5;28mprint\u001b[39m(x)\n",
      "\u001b[1;31mAttributeError\u001b[0m: 'tuple' object has no attribute 'join'"
     ]
    }
   ],
   "source": [
    "x.join(b,c)\n",
    "print(x)"
   ]
  },
  {
   "cell_type": "code",
   "execution_count": 16,
   "id": "d6f4dda9-0ea3-4241-9b33-28a2ce6b2fd8",
   "metadata": {},
   "outputs": [
    {
     "ename": "TypeError",
     "evalue": "can only concatenate tuple (not \"str\") to tuple",
     "output_type": "error",
     "traceback": [
      "\u001b[1;31m---------------------------------------------------------------------------\u001b[0m",
      "\u001b[1;31mTypeError\u001b[0m                                 Traceback (most recent call last)",
      "Cell \u001b[1;32mIn[16], line 1\u001b[0m\n\u001b[1;32m----> 1\u001b[0m p \u001b[38;5;241m=\u001b[39m b\u001b[38;5;241m+\u001b[39mc\n\u001b[0;32m      2\u001b[0m \u001b[38;5;28mprint\u001b[39m(p)\n",
      "\u001b[1;31mTypeError\u001b[0m: can only concatenate tuple (not \"str\") to tuple"
     ]
    }
   ],
   "source": [
    "p = b+c\n",
    "print(p)"
   ]
  },
  {
   "cell_type": "code",
   "execution_count": 17,
   "id": "ab605b0f-be88-4425-84de-adbef3aa6bd8",
   "metadata": {},
   "outputs": [
    {
     "name": "stdout",
     "output_type": "stream",
     "text": [
      "('John', 'David', 'Alice', 'Emma')\n"
     ]
    }
   ],
   "source": [
    "# Create separate tuples for brothers and sisters\n",
    "brothers = (\"John\", \"David\")\n",
    "sisters = (\"Alice\", \"Emma\")\n",
    "\n",
    "# Concatenate the tuples using the + operator\n",
    "siblings = brothers + sisters\n",
    "\n",
    "# Print the siblings tuple\n",
    "print(siblings)"
   ]
  },
  {
   "cell_type": "code",
   "execution_count": null,
   "id": "d4d8a029-5ba8-4817-a1e9-6ccbcdc725a3",
   "metadata": {},
   "outputs": [],
   "source": []
  },
  {
   "cell_type": "code",
   "execution_count": 18,
   "id": "943a3897-fc35-4a3e-a94e-bc2cd6ab49e6",
   "metadata": {},
   "outputs": [
    {
     "name": "stdout",
     "output_type": "stream",
     "text": [
      "('dagtt', 'ddjdjjd', 'dkkdk', 'ffjdjj')\n"
     ]
    }
   ],
   "source": [
    "t = (\"dagtt\",  \"ddjdjjd\")\n",
    "n = (\"dkkdk\", \"ffjdjj\")\n",
    "k = t+ n\n",
    "print(k)"
   ]
  },
  {
   "cell_type": "code",
   "execution_count": 19,
   "id": "dd1ceb63-96a7-4404-ac2a-91fbeb2aaeaf",
   "metadata": {},
   "outputs": [
    {
     "name": "stdout",
     "output_type": "stream",
     "text": [
      "('John', 'David', 'Alice', 'Emma', 'Mom', 'Dad')\n"
     ]
    }
   ],
   "source": [
    "parents = (\"Mom\", \"Dad\")  # Replace with actual names\n",
    "\n",
    "# Combine siblings and parents into a new tuple\n",
    "family_members = siblings + parents\n",
    "\n",
    "# Print the family_members tuple\n",
    "print(family_members)"
   ]
  },
  {
   "cell_type": "code",
   "execution_count": 20,
   "id": "a649c9a6-4aa7-407c-a545-9f0232bbacbe",
   "metadata": {},
   "outputs": [
    {
     "name": "stdout",
     "output_type": "stream",
     "text": [
      "John\n",
      "['David', 'Alice', 'Emma', 'Mom', 'Dad']\n"
     ]
    }
   ],
   "source": [
    "siblings, *parents = family_members\n",
    "\n",
    "# Print siblings and parents (parents will be a list)\n",
    "print(siblings)\n",
    "print(parents)"
   ]
  },
  {
   "cell_type": "code",
   "execution_count": 21,
   "id": "1fea4342-8594-4439-b93e-2a1d57267a2c",
   "metadata": {},
   "outputs": [
    {
     "name": "stdout",
     "output_type": "stream",
     "text": [
      "('apple', 'banana', 'orange', 'carrot', 'potato', 'broccoli', 'milk', 'cheese', 'eggs')\n"
     ]
    }
   ],
   "source": [
    "fruits = (\"apple\", \"banana\", \"orange\")\n",
    "vegetables = (\"carrot\", \"potato\", \"broccoli\")\n",
    "animal_products = (\"milk\", \"cheese\", \"eggs\")\n",
    "\n",
    "# Join the tuples using the + operator\n",
    "food_stuff_tp = fruits + vegetables + animal_products\n",
    "\n",
    "# Print the food_stuff_tp tuple\n",
    "print(food_stuff_tp)"
   ]
  },
  {
   "cell_type": "code",
   "execution_count": 22,
   "id": "97775c78-3558-465f-ae9c-1b55dfdb4d0d",
   "metadata": {},
   "outputs": [
    {
     "name": "stdout",
     "output_type": "stream",
     "text": [
      "['apple', 'banana', 'orange', 'carrot', 'potato', 'broccoli', 'milk', 'cheese', 'eggs']\n"
     ]
    }
   ],
   "source": [
    "food_stuff_lt = list(food_stuff_tp)\n",
    "\n",
    "# Print the food_stuff_lt list\n",
    "print(food_stuff_lt)"
   ]
  },
  {
   "cell_type": "code",
   "execution_count": 28,
   "id": "1d6288c2-b4e1-417a-8cd9-64159b47226d",
   "metadata": {},
   "outputs": [
    {
     "name": "stdout",
     "output_type": "stream",
     "text": [
      "['banana', 'orange', 'carrot', 'potato']\n"
     ]
    }
   ],
   "source": [
    "x = ['apple', 'banana', 'orange', 'carrot', 'potato', 'broccoli', 'milk', 'cheese', 'eggs']\n",
    "b = x[1:5]\n",
    "print(b)"
   ]
  },
  {
   "cell_type": "code",
   "execution_count": 29,
   "id": "9a5b3741-9349-4819-849e-10b356bbfa9d",
   "metadata": {},
   "outputs": [
    {
     "name": "stdout",
     "output_type": "stream",
     "text": [
      "['banana', 'orange']\n"
     ]
    }
   ],
   "source": [
    "x = ['apple', 'banana', 'orange', 'carrot', 'potato', 'broccoli', 'milk', 'cheese', 'eggs']\n",
    "b = x[1:3]\n",
    "print(b)"
   ]
  },
  {
   "cell_type": "code",
   "execution_count": 30,
   "id": "ade8eba0-b17d-47c0-b618-abfc13dd295b",
   "metadata": {},
   "outputs": [
    {
     "name": "stdout",
     "output_type": "stream",
     "text": [
      "None\n"
     ]
    }
   ],
   "source": [
    "food_stuff_tp = (\"apple\", \"banana\", \"orange\")  # Create the tuple\n",
    "\n",
    "# Delete the tuple (indirectly)\n",
    "food_stuff_tp = None\n",
    "\n",
    "# Now food_stuff_tp doesn't refer to any existing tuple\n",
    "print(food_stuff_tp)  # Output: None"
   ]
  },
  {
   "cell_type": "code",
   "execution_count": 31,
   "id": "91dde7b9-a786-4d59-93af-dd79e90da507",
   "metadata": {},
   "outputs": [
    {
     "name": "stdout",
     "output_type": "stream",
     "text": [
      "apple is in the fruits tuple.\n"
     ]
    }
   ],
   "source": [
    "fruits = (\"apple\", \"banana\", \"orange\")\n",
    "\n",
    "# Check if an item exists\n",
    "item_to_find = \"apple\"\n",
    "if item_to_find in fruits:\n",
    "  print(f\"{item_to_find} is in the fruits tuple.\")\n",
    "else:\n",
    "  print(f\"{item_to_find} is not in the fruits tuple.\")"
   ]
  },
  {
   "cell_type": "code",
   "execution_count": 32,
   "id": "04db60bc-c70f-41e1-ae85-3af6a1eafa93",
   "metadata": {},
   "outputs": [],
   "source": [
    " # 8. Set and Operation"
   ]
  },
  {
   "cell_type": "code",
   "execution_count": 34,
   "id": "f33b29ad-da7d-4f9e-b724-65ed23bfea39",
   "metadata": {},
   "outputs": [
    {
     "name": "stdout",
     "output_type": "stream",
     "text": [
      "3\n"
     ]
    }
   ],
   "source": [
    "fruits = (\"apple\", \"banana\", \"orange\")\n",
    "x = len(fruits)\n",
    "print(x)"
   ]
  },
  {
   "cell_type": "code",
   "execution_count": 42,
   "id": "148c0a1a-014d-4ef3-800f-de3b82fb7af5",
   "metadata": {},
   "outputs": [
    {
     "ename": "AttributeError",
     "evalue": "'tuple' object has no attribute 'add'",
     "output_type": "error",
     "traceback": [
      "\u001b[1;31m---------------------------------------------------------------------------\u001b[0m",
      "\u001b[1;31mAttributeError\u001b[0m                            Traceback (most recent call last)",
      "Cell \u001b[1;32mIn[42], line 1\u001b[0m\n\u001b[1;32m----> 1\u001b[0m b \u001b[38;5;241m=\u001b[39m fruits\u001b[38;5;241m.\u001b[39madd(\u001b[38;5;124m\"\u001b[39m\u001b[38;5;124msagar\u001b[39m\u001b[38;5;124m\"\u001b[39m)\n\u001b[0;32m      2\u001b[0m \u001b[38;5;28mprint\u001b[39m(b)\n",
      "\u001b[1;31mAttributeError\u001b[0m: 'tuple' object has no attribute 'add'"
     ]
    }
   ],
   "source": [
    "\n",
    "b = fruits.add(\"sagar\")\n",
    "print(b)\n"
   ]
  },
  {
   "cell_type": "code",
   "execution_count": 44,
   "id": "1368c0f1-f0d7-4621-965b-a0ab03966976",
   "metadata": {},
   "outputs": [
    {
     "ename": "AttributeError",
     "evalue": "'tuple' object has no attribute 'add'",
     "output_type": "error",
     "traceback": [
      "\u001b[1;31m---------------------------------------------------------------------------\u001b[0m",
      "\u001b[1;31mAttributeError\u001b[0m                            Traceback (most recent call last)",
      "Cell \u001b[1;32mIn[44], line 3\u001b[0m\n\u001b[0;32m      1\u001b[0m fruits \u001b[38;5;241m=\u001b[39m (\u001b[38;5;124m\"\u001b[39m\u001b[38;5;124mapple\u001b[39m\u001b[38;5;124m\"\u001b[39m, \u001b[38;5;124m\"\u001b[39m\u001b[38;5;124mbanana\u001b[39m\u001b[38;5;124m\"\u001b[39m, \u001b[38;5;124m\"\u001b[39m\u001b[38;5;124morange\u001b[39m\u001b[38;5;124m\"\u001b[39m)\n\u001b[1;32m----> 3\u001b[0m fruits\u001b[38;5;241m.\u001b[39madd(\u001b[38;5;124m'\u001b[39m\u001b[38;5;124msagar\u001b[39m\u001b[38;5;124m'\u001b[39m)\n\u001b[0;32m      4\u001b[0m \u001b[38;5;28mprint\u001b[39m(fruits)\n",
      "\u001b[1;31mAttributeError\u001b[0m: 'tuple' object has no attribute 'add'"
     ]
    }
   ],
   "source": [
    "fruits = (\"apple\", \"banana\", \"orange\")\n",
    "\n",
    "fruits.add('sagar')\n",
    "print(fruits)"
   ]
  },
  {
   "cell_type": "code",
   "execution_count": 45,
   "id": "1f577dd0-b3a1-4e5c-88f7-20ffa71b8059",
   "metadata": {},
   "outputs": [
    {
     "ename": "NameError",
     "evalue": "name 'it_companies' is not defined",
     "output_type": "error",
     "traceback": [
      "\u001b[1;31m---------------------------------------------------------------------------\u001b[0m",
      "\u001b[1;31mNameError\u001b[0m                                 Traceback (most recent call last)",
      "Cell \u001b[1;32mIn[45], line 5\u001b[0m\n\u001b[0;32m      2\u001b[0m new_companies \u001b[38;5;241m=\u001b[39m [\u001b[38;5;124m\"\u001b[39m\u001b[38;5;124mFacebook\u001b[39m\u001b[38;5;124m\"\u001b[39m, \u001b[38;5;124m\"\u001b[39m\u001b[38;5;124mIBM\u001b[39m\u001b[38;5;124m\"\u001b[39m, \u001b[38;5;124m\"\u001b[39m\u001b[38;5;124mNetflix\u001b[39m\u001b[38;5;124m\"\u001b[39m]\n\u001b[0;32m      4\u001b[0m \u001b[38;5;66;03m# Add the companies to the set using update()\u001b[39;00m\n\u001b[1;32m----> 5\u001b[0m it_companies\u001b[38;5;241m.\u001b[39mupdate(new_companies)\n\u001b[0;32m      7\u001b[0m \u001b[38;5;66;03m# Print the updated set (optional)\u001b[39;00m\n\u001b[0;32m      8\u001b[0m \u001b[38;5;28mprint\u001b[39m(it_companies)\n",
      "\u001b[1;31mNameError\u001b[0m: name 'it_companies' is not defined"
     ]
    }
   ],
   "source": [
    "# Create a list of companies to add\n",
    "new_companies = [\"Facebook\", \"IBM\", \"Netflix\"]\n",
    "\n",
    "# Add the companies to the set using update()\n",
    "it_companies.update(new_companies)\n",
    "\n",
    "# Print the updated set (optional)\n",
    "print(it_companies)"
   ]
  },
  {
   "cell_type": "code",
   "execution_count": 46,
   "id": "aaf4fcab-00b0-4eaf-becd-43c24a28d528",
   "metadata": {},
   "outputs": [
    {
     "name": "stdout",
     "output_type": "stream",
     "text": [
      "mango is not found in the set\n",
      "{'apple', 'orange', 'banana'}\n"
     ]
    }
   ],
   "source": [
    "my_set = {\"apple\", \"banana\", \"orange\"}\n",
    "\n",
    "try:\n",
    "  my_set.remove(\"mango\")  # Raises KeyError because \"mango\" is not present\n",
    "except KeyError:\n",
    "  print(\"mango is not found in the set\")\n",
    "\n",
    "my_set.discard(\"mango\")  # Does nothing because \"mango\" is not present (no error)\n",
    "\n",
    "print(my_set)  # Output: {\"apple\", \"banana\", \"orange\"}"
   ]
  },
  {
   "cell_type": "code",
   "execution_count": 47,
   "id": "8a86cfc6-e301-4f67-adcc-ac58f19d6384",
   "metadata": {},
   "outputs": [
    {
     "name": "stdout",
     "output_type": "stream",
     "text": [
      "{'mango', 'apple', 'orange', 'banana', 'grapefruit'}\n"
     ]
    }
   ],
   "source": [
    "set_A = {\"apple\", \"banana\", \"orange\"}\n",
    "set_B = {\"mango\", \"grapefruit\", \"apple\"}\n",
    "\n",
    "combined_set = set_A | set_B\n",
    "\n",
    "print(combined_set)  # Output: {\"apple\", \"banana\", \"orange\", \"mango\", \"grapefruit\"}"
   ]
  },
  {
   "cell_type": "code",
   "execution_count": 48,
   "id": "1bd994d6-2fb1-4b67-acbc-7cfc14cb30c9",
   "metadata": {},
   "outputs": [
    {
     "name": "stdout",
     "output_type": "stream",
     "text": [
      "{'apple'}\n"
     ]
    }
   ],
   "source": [
    "et_A = {\"apple\", \"banana\", \"orange\"}\n",
    "set_B = {\"mango\", \"grapefruit\", \"apple\"}\n",
    "\n",
    "intersection = set_A.intersection(set_B)\n",
    "\n",
    "print(intersection) "
   ]
  },
  {
   "cell_type": "code",
   "execution_count": null,
   "id": "727bacde-ff10-4cfd-99fc-e9c174d393be",
   "metadata": {},
   "outputs": [],
   "source": [
    "set_A = {\"apple\", \"banana\"}\n",
    "set_B = {\"mango\", \"grapefruit\"}"
   ]
  },
  {
   "cell_type": "code",
   "execution_count": 49,
   "id": "46b23245-d988-4c18-87c0-0cfbbcbe5a96",
   "metadata": {},
   "outputs": [
    {
     "name": "stdout",
     "output_type": "stream",
     "text": [
      "{'mango', 'apple', 'banana', 'grapefruit'}\n",
      "{'mango', 'apple', 'banana', 'grapefruit'}\n"
     ]
    }
   ],
   "source": [
    "set_A = {\"apple\", \"banana\"}\n",
    "set_B = {\"mango\", \"grapefruit\", \"apple\"}\n",
    "\n",
    "# Join A with B using the union operator\n",
    "joined_set_1 = set_A | set_B\n",
    "\n",
    "# Join B with A using the union operator\n",
    "joined_set_2 = set_B | set_A\n",
    "\n",
    "print(joined_set_1)  # Output: {\"apple\", \"banana\", \"mango\", \"grapefruit\"}\n",
    "print(joined_set_2)  # Output: {\"apple\", \"banana\", \"mango\", \"grapefruit\"}"
   ]
  },
  {
   "cell_type": "code",
   "execution_count": 50,
   "id": "852a434f-72aa-4fc1-bb15-6fadb0562a83",
   "metadata": {},
   "outputs": [
    {
     "name": "stdout",
     "output_type": "stream",
     "text": [
      "{'mango', 'banana', 'grapefruit', 'orange'}\n"
     ]
    }
   ],
   "source": [
    "set_A = {\"apple\", \"banana\", \"orange\"}\n",
    "set_B = {\"mango\", \"grapefruit\", \"apple\"}\n",
    "\n",
    "symmetric_difference = set_A.symmetric_difference(set_B)\n",
    "\n",
    "print(symmetric_difference)  # Output: {\"banana\", \"grapefruit\", \"mango\", \"orange\"}"
   ]
  },
  {
   "cell_type": "code",
   "execution_count": 52,
   "id": "f37bc717-5ab4-440e-8cfc-5bb29666c4a0",
   "metadata": {},
   "outputs": [
    {
     "name": "stdout",
     "output_type": "stream",
     "text": [
      "None\n"
     ]
    }
   ],
   "source": [
    "set_A = {\"apple\", \"banana\"}\n",
    "set_B = {\"mango\", \"grapefruit\"}\n",
    "\n",
    "# Delete sets by assigning None\n",
    "set_A = None\n",
    "set_B = None\n",
    "print(set_A)\n",
    "\n",
    "# Now set_A and set_B refer to None, not any existing set objects"
   ]
  },
  {
   "cell_type": "code",
   "execution_count": 53,
   "id": "907eb73c-f449-4047-b0ef-2c72d15db36e",
   "metadata": {},
   "outputs": [
    {
     "name": "stdout",
     "output_type": "stream",
     "text": [
      "The sentence: I am a teacher and I love to inspire and teach people.\n",
      "Number of unique words: 10\n"
     ]
    }
   ],
   "source": [
    "sentence = \"I am a teacher and I love to inspire and teach people.\"\n",
    "\n",
    "# Split the sentence into a list of words\n",
    "words = sentence.split()\n",
    "\n",
    "# Convert the list of words to a set to get unique elements\n",
    "unique_words = set(words)\n",
    "\n",
    "# Count the number of unique words\n",
    "number_of_unique_words = len(unique_words)\n",
    "\n",
    "print(\"The sentence:\", sentence)\n",
    "print(\"Number of unique words:\", number_of_unique_words)"
   ]
  },
  {
   "cell_type": "code",
   "execution_count": 54,
   "id": "a4a63a9e-ed9e-43c9-902e-0f3fbbe43279",
   "metadata": {},
   "outputs": [],
   "source": [
    "# 9. Dictionary."
   ]
  },
  {
   "cell_type": "code",
   "execution_count": 55,
   "id": "215fe1c4-6979-457d-83ef-dc81100556bc",
   "metadata": {},
   "outputs": [
    {
     "data": {
      "text/plain": [
       "dict"
      ]
     },
     "execution_count": 55,
     "metadata": {},
     "output_type": "execute_result"
    }
   ],
   "source": [
    "type({})"
   ]
  },
  {
   "cell_type": "code",
   "execution_count": 56,
   "id": "cd1aa02d-f8ab-40ad-b3bc-334396eecb6f",
   "metadata": {},
   "outputs": [
    {
     "name": "stdout",
     "output_type": "stream",
     "text": [
      "{'name': 'Fido', 'color': 'brown', 'breed': 'Labrador Retriever', 'legs': 4, 'age': 3}\n"
     ]
    }
   ],
   "source": [
    "dog = {  # Assuming you have an existing dictionary named 'dog'\n",
    "\n",
    "  # Add key-value pairs for dog information\n",
    "  \"name\": \"Fido\",\n",
    "  \"color\": \"brown\",\n",
    "  \"breed\": \"Labrador Retriever\",\n",
    "  \"legs\": 4,\n",
    "  \"age\": 3\n",
    "}\n",
    "\n",
    "# Print the updated dictionary (optional)\n",
    "print(dog)"
   ]
  },
  {
   "cell_type": "code",
   "execution_count": 57,
   "id": "3c226d51-d170-48d4-bde4-aa8c21e268eb",
   "metadata": {},
   "outputs": [
    {
     "name": "stdout",
     "output_type": "stream",
     "text": [
      "{'first_name': 'John', 'last_name': 'Doe', 'gender': 'Male', 'age': 25, 'marital_status': 'Single', 'skills': ['Programming', 'Communication', 'Problem-solving'], 'country': 'USA', 'city': 'New York', 'address': '123 Main Street'}\n"
     ]
    }
   ],
   "source": [
    "student = {\n",
    "  \"first_name\": \"John\",\n",
    "  \"last_name\": \"Doe\",\n",
    "  \"gender\": \"Male\",\n",
    "  \"age\": 25,\n",
    "  \"marital_status\": \"Single\",\n",
    "  \"skills\": [\"Programming\", \"Communication\", \"Problem-solving\"],  # Skills as a list\n",
    "  \"country\": \"USA\",\n",
    "  \"city\": \"New York\",\n",
    "  \"address\": \"123 Main Street\"\n",
    "}\n",
    "\n",
    "# Print the student dictionary (optional)\n",
    "print(student)"
   ]
  },
  {
   "cell_type": "code",
   "execution_count": 59,
   "id": "0f151878-4ddc-4763-834c-f51516c8b1b7",
   "metadata": {},
   "outputs": [
    {
     "name": "stdout",
     "output_type": "stream",
     "text": [
      "The student dictionary has 9 key-value pairs.\n"
     ]
    }
   ],
   "source": [
    "student_length = len(student)\n",
    "\n",
    "print(\"The student dictionary has\", student_length, \"key-value pairs.\")\n",
    "\n",
    "\n"
   ]
  },
  {
   "cell_type": "code",
   "execution_count": 60,
   "id": "9c30fc12-0783-4bc5-8906-6a1af7ff1c8a",
   "metadata": {},
   "outputs": [
    {
     "name": "stdout",
     "output_type": "stream",
     "text": [
      "List of student dictionary keys: ['first_name', 'last_name', 'gender', 'age', 'marital_status', 'skills', 'country', 'city', 'address']\n"
     ]
    }
   ],
   "source": [
    "student = {\n",
    "  \"first_name\": \"John\",\n",
    "  \"last_name\": \"Doe\",\n",
    "  \"gender\": \"Male\",\n",
    "  \"age\": 25,\n",
    "  \"marital_status\": \"Single\",\n",
    "  \"skills\": [\"Programming\", \"Communication\", \"Problem-solving\"],\n",
    "  \"country\": \"USA\",\n",
    "  \"city\": \"New York\",\n",
    "  \"address\": \"123 Main Street\"\n",
    "}\n",
    "\n",
    "# Get the keys as a list\n",
    "keys = list(student.keys())\n",
    "\n",
    "# Print the list of keys\n",
    "print(\"List of student dictionary keys:\", keys)"
   ]
  },
  {
   "cell_type": "code",
   "execution_count": 61,
   "id": "1f0099f3-9901-4423-b2bb-680e833b8967",
   "metadata": {},
   "outputs": [
    {
     "name": "stdout",
     "output_type": "stream",
     "text": [
      "List of student dictionary values: ['sagar', 'bawankule', 'Male', 25, 'Single', ['Programming', 'Communication', 'Problem-solving'], 'INDIA', 'nagpur', 'nagpur']\n"
     ]
    }
   ],
   "source": [
    "student = {\n",
    "  \"first_name\": \"sagar\",\n",
    "  \"last_name\": \"bawankule\",\n",
    "  \"gender\": \"Male\",\n",
    "  \"age\": 25,\n",
    "  \"marital_status\": \"Single\",\n",
    "  \"skills\": [\"Programming\", \"Communication\", \"Problem-solving\"],\n",
    "  \"country\": \"INDIA\",\n",
    "  \"city\": \"nagpur\",\n",
    "  \"address\": \"nagpur\"\n",
    "}\n",
    "\n",
    "# Get the values as a list (using list comprehension)\n",
    "values = [value for value in student.values()]\n",
    "\n",
    "# Alternative way (using list())\n",
    "# values = list(student.values())\n",
    "\n",
    "# Print the list of values\n",
    "print(\"List of student dictionary values:\", values)"
   ]
  },
  {
   "cell_type": "code",
   "execution_count": 63,
   "id": "a3b84d1a-b367-47b8-ae70-b63a95e74bbc",
   "metadata": {},
   "outputs": [
    {
     "name": "stdout",
     "output_type": "stream",
     "text": [
      "List of tuples: [('first_name', 'sagar'), ('last_name', 'bawankule'), ('gender', 'Male'), ('age', 25), ('marital_status', 'Single'), ('skills', ['Programming', 'Communication', 'Problem-solving']), ('country', 'INDIA'), ('city', 'nagpur'), ('address', 'nagpur')]\n"
     ]
    }
   ],
   "source": [
    "student = {\n",
    "  \"first_name\": \"sagar\",\n",
    "  \"last_name\": \"bawankule\",\n",
    "  \"gender\": \"Male\",\n",
    "  \"age\": 25,\n",
    "  \"marital_status\": \"Single\",\n",
    "  \"skills\": [\"Programming\", \"Communication\", \"Problem-solving\"],\n",
    "  \"country\": \"INDIA\",\n",
    "  \"city\": \"nagpur\",\n",
    "  \"address\": \"nagpur\"\n",
    "}\n",
    "\n",
    "# Convert the dictionary to a list of tuples using items() method\n",
    "list_of_tuples = list(student.items())\n",
    "\n",
    "# Print the list of tuples\n",
    "print(\"List of tuples:\", list_of_tuples)"
   ]
  },
  {
   "cell_type": "code",
   "execution_count": 65,
   "id": "5feda876-4b1f-441b-9c4e-06507de7c13e",
   "metadata": {},
   "outputs": [
    {
     "name": "stdout",
     "output_type": "stream",
     "text": [
      "{'first_name': 'sagar', 'last_name': 'bawankule', 'gender': 'Male', 'marital_status': 'Single', 'skills': ['Programming', 'Communication', 'Problem-solving'], 'country': 'INDIA', 'city': 'nagpur', 'address': 'nagpur'}\n"
     ]
    }
   ],
   "source": [
    "\n",
    "student = {\n",
    "  \"first_name\": \"sagar\",\n",
    "  \"last_name\": \"bawankule\",\n",
    "  \"gender\": \"Male\",\n",
    "  \"age\": 25,\n",
    "  \"marital_status\": \"Single\",\n",
    "  \"skills\": [\"Programming\", \"Communication\", \"Problem-solving\"],\n",
    "  \"country\": \"INDIA\",\n",
    "  \"city\": \"nagpur\",\n",
    "  \"address\": \"nagpur\"\n",
    "}\n",
    "\n",
    "\n",
    "# Choose the key to delete (replace with the desired key)\n",
    "key_to_delete = \"age\"\n",
    "\n",
    "# Delete the item using del\n",
    "del student[key_to_delete]\n",
    "\n",
    "# Print the modified dictionary (optional)\n",
    "print(student)\n"
   ]
  },
  {
   "cell_type": "code",
   "execution_count": 66,
   "id": "dd872315-fe12-495b-bf27-885f849eff49",
   "metadata": {},
   "outputs": [
    {
     "name": "stdout",
     "output_type": "stream",
     "text": [
      "{'first_name': 'Jane', 'last_name': 'Smith', 'age': 30}\n"
     ]
    }
   ],
   "source": [
    "student1 = {  # Assuming you have a dictionary named student1\n",
    "  \"first_name\": \"sagar\",\n",
    "  \"last_name\": \"bawankule\",\n",
    "  \"age\": 25\n",
    "}\n",
    "\n",
    "student2 = {  # Assuming you have another dictionary named student2\n",
    "  \"first_name\": \"Jane\",\n",
    "  \"last_name\": \"Smith\",\n",
    "  \"age\": 30\n",
    "}\n",
    "\n",
    "# \"Delete\" student1 by setting its variable to None\n",
    "student1 = None\n",
    "\n",
    "# Now student1 no longer refers to any existing dictionary object\n",
    "\n",
    "# Print student2 to show it's still accessible (optional)\n",
    "print(student2)"
   ]
  },
  {
   "cell_type": "code",
   "execution_count": 67,
   "id": "1289600b-08fb-418d-921c-53b2ed7f6737",
   "metadata": {},
   "outputs": [
    {
     "name": "stdout",
     "output_type": "stream",
     "text": [
      "{'first_name': 'Jane', 'last_name': 'Smith', 'age': 30}\n"
     ]
    }
   ],
   "source": [
    "student1 = {  # Assuming you have a dictionary named student1\n",
    "  \"first_name\": \"John\",\n",
    "  \"last_name\": \"Doe\",\n",
    "  \"age\": 25\n",
    "}\n",
    "\n",
    "student2 = {  # Assuming you have another dictionary named student2\n",
    "  \"first_name\": \"Jane\",\n",
    "  \"last_name\": \"Smith\",\n",
    "  \"age\": 30\n",
    "}\n",
    "\n",
    "# \"Delete\" student1 by setting its variable to None\n",
    "student1 = None\n",
    "\n",
    "# Now student1 no longer refers to any existing dictionary object\n",
    "\n",
    "# Print student2 to show it's still accessible (optional)\n",
    "print(student2)"
   ]
  },
  {
   "cell_type": "code",
   "execution_count": 68,
   "id": "a4dea788-151e-4308-8f5d-efcf4654176b",
   "metadata": {},
   "outputs": [
    {
     "name": "stdin",
     "output_type": "stream",
     "text": [
      "Enter first number \n",
      " 50\n",
      "Enter second number \n",
      " 60\n"
     ]
    },
    {
     "name": "stdout",
     "output_type": "stream",
     "text": [
      "First number is smaller than second\n"
     ]
    }
   ],
   "source": [
    "number1 = int(input(\"Enter first number \\n\"))\n",
    "number2 = int(input(\"Enter second number \\n\"))\n",
    "\n",
    "if number1 == number2:\n",
    "    print(\"Both numbers are same\")\n",
    "else:\n",
    "    if number1 > number2:\n",
    "        print(\"First number is bigger than second\")\n",
    "    else:\n",
    "        print(\"First number is smaller than second\")"
   ]
  },
  {
   "cell_type": "code",
   "execution_count": 69,
   "id": "454ba3f6-1a34-4e72-943d-ee4d40bac3f6",
   "metadata": {},
   "outputs": [
    {
     "name": "stdout",
     "output_type": "stream",
     "text": [
      "Number: 1\n",
      "Square: 1\n",
      "Cube: 1\n",
      "----------\n",
      "Number: 2\n",
      "Square: 4\n",
      "Cube: 8\n",
      "----------\n",
      "Number: 3\n",
      "Square: 9\n",
      "Cube: 27\n",
      "----------\n",
      "Number: 4\n",
      "Square: 16\n",
      "Cube: 64\n",
      "----------\n",
      "Number: 5\n",
      "Square: 25\n",
      "Cube: 125\n",
      "----------\n",
      "Number: 6\n",
      "Square: 36\n",
      "Cube: 216\n",
      "----------\n",
      "Number: 7\n",
      "Square: 49\n",
      "Cube: 343\n",
      "----------\n",
      "Number: 8\n",
      "Square: 64\n",
      "Cube: 512\n",
      "----------\n",
      "Number: 9\n",
      "Square: 81\n",
      "Cube: 729\n",
      "----------\n",
      "Number: 10\n",
      "Square: 100\n",
      "Cube: 1000\n",
      "----------\n"
     ]
    }
   ],
   "source": [
    "num = 1\n",
    "\n",
    "while num <= 10:\n",
    "  square = num * num\n",
    "  cube = num * num * num\n",
    "  print(\"Number:\", num)\n",
    "  print(\"Square:\", square)\n",
    "  print(\"Cube:\", cube)\n",
    "  print(\"-\" * 10)  # Print separator for readability\n",
    "  num += 1"
   ]
  }
 ],
 "metadata": {
  "kernelspec": {
   "display_name": "Python 3 (ipykernel)",
   "language": "python",
   "name": "python3"
  },
  "language_info": {
   "codemirror_mode": {
    "name": "ipython",
    "version": 3
   },
   "file_extension": ".py",
   "mimetype": "text/x-python",
   "name": "python",
   "nbconvert_exporter": "python",
   "pygments_lexer": "ipython3",
   "version": "3.11.7"
  }
 },
 "nbformat": 4,
 "nbformat_minor": 5
}
